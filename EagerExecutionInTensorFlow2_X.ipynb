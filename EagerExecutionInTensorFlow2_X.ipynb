{
  "nbformat": 4,
  "nbformat_minor": 0,
  "metadata": {
    "colab": {
      "name": "EagerExecutionInTensorFlow2.X.ipynb",
      "provenance": [],
      "authorship_tag": "ABX9TyMoOAH+XTTZZR0Pjoh9hyu9",
      "include_colab_link": true
    },
    "kernelspec": {
      "name": "python3",
      "display_name": "Python 3"
    }
  },
  "cells": [
    {
      "cell_type": "markdown",
      "metadata": {
        "id": "view-in-github",
        "colab_type": "text"
      },
      "source": [
        "<a href=\"https://colab.research.google.com/github/NicoGangi5/Building_Deep_Learning_Models_with_TensorFlow/blob/main/EagerExecutionInTensorFlow2_X.ipynb\" target=\"_parent\"><img src=\"https://colab.research.google.com/assets/colab-badge.svg\" alt=\"Open In Colab\"/></a>"
      ]
    },
    {
      "cell_type": "code",
      "metadata": {
        "id": "BHh8RiYmiGX6"
      },
      "source": [
        "!pip install grpcio==1.24.3\n",
        "!pip install tensorflow==2.2.0"
      ],
      "execution_count": null,
      "outputs": []
    },
    {
      "cell_type": "code",
      "metadata": {
        "id": "LA51rhb1hjzl"
      },
      "source": [
        "import tensorflow as tf\n",
        "if not tf.__version__ == '2.2.0':\n",
        "    print(tf.__version__)\n",
        "    raise ValueError('please upgrade to TensorFlow 2.2.0, or restart your Kernel (Kernel->Restart & Clear Output)')"
      ],
      "execution_count": null,
      "outputs": []
    },
    {
      "cell_type": "markdown",
      "metadata": {
        "id": "0nU-JGZJiO2A"
      },
      "source": [
        "## Eager Execution"
      ]
    },
    {
      "cell_type": "code",
      "metadata": {
        "colab": {
          "base_uri": "https://localhost:8080/"
        },
        "id": "OQK6ITEJiPt8",
        "outputId": "1792d2e7-daa0-4755-cd29-16a542df575e"
      },
      "source": [
        "tf.executing_eagerly()"
      ],
      "execution_count": null,
      "outputs": [
        {
          "output_type": "execute_result",
          "data": {
            "text/plain": [
              "True"
            ]
          },
          "metadata": {
            "tags": []
          },
          "execution_count": 2
        }
      ]
    },
    {
      "cell_type": "markdown",
      "metadata": {
        "id": "Udlz-_L4i5Rq"
      },
      "source": [
        "# Tensorflow Operations Without Eager Execution Mode"
      ]
    },
    {
      "cell_type": "code",
      "metadata": {
        "id": "IY3adruNiqMv"
      },
      "source": [
        "from tensorflow.python.framework.ops import disable_eager_execution\n",
        "disable_eager_execution()"
      ],
      "execution_count": null,
      "outputs": []
    },
    {
      "cell_type": "code",
      "metadata": {
        "colab": {
          "base_uri": "https://localhost:8080/"
        },
        "id": "X2W01a1gi9Tf",
        "outputId": "90f7c9bf-86e7-433f-a6d5-c2009f85d3fe"
      },
      "source": [
        "tf.executing_eagerly()"
      ],
      "execution_count": null,
      "outputs": [
        {
          "output_type": "execute_result",
          "data": {
            "text/plain": [
              "False"
            ]
          },
          "metadata": {
            "tags": []
          },
          "execution_count": 4
        }
      ]
    },
    {
      "cell_type": "code",
      "metadata": {
        "colab": {
          "base_uri": "https://localhost:8080/"
        },
        "id": "YgOqZL_gjCv4",
        "outputId": "7a340bda-4736-4748-90d2-b68b20ab8974"
      },
      "source": [
        "import numpy as np\n",
        "a = tf.constant(np.array([1., 2., 3.]))\n",
        "type(a)"
      ],
      "execution_count": null,
      "outputs": [
        {
          "output_type": "execute_result",
          "data": {
            "text/plain": [
              "tensorflow.python.framework.ops.Tensor"
            ]
          },
          "metadata": {
            "tags": []
          },
          "execution_count": 5
        }
      ]
    },
    {
      "cell_type": "code",
      "metadata": {
        "colab": {
          "base_uri": "https://localhost:8080/"
        },
        "id": "ewzt6mgvjGlR",
        "outputId": "1623c02c-f83c-432f-8648-cccca8760c27"
      },
      "source": [
        "b = tf.constant(np.array([4.,5.,6.]))\n",
        "c = tf.tensordot(a, b, 1)\n",
        "type(c)"
      ],
      "execution_count": null,
      "outputs": [
        {
          "output_type": "execute_result",
          "data": {
            "text/plain": [
              "tensorflow.python.framework.ops.Tensor"
            ]
          },
          "metadata": {
            "tags": []
          },
          "execution_count": 6
        }
      ]
    },
    {
      "cell_type": "code",
      "metadata": {
        "colab": {
          "base_uri": "https://localhost:8080/"
        },
        "id": "3k__pWLxjKnU",
        "outputId": "f424bc26-d296-4ba5-ac70-7a0d78e268b5"
      },
      "source": [
        "print(c)"
      ],
      "execution_count": null,
      "outputs": [
        {
          "output_type": "stream",
          "text": [
            "Tensor(\"Tensordot:0\", shape=(), dtype=float64)\n"
          ],
          "name": "stdout"
        }
      ]
    },
    {
      "cell_type": "code",
      "metadata": {
        "colab": {
          "base_uri": "https://localhost:8080/"
        },
        "id": "uYcKKpH_jOxc",
        "outputId": "3138d6c6-1317-41ea-f6a0-6f8e0903bcac"
      },
      "source": [
        "session = tf.compat.v1.Session()\n",
        "output = session.run(c)\n",
        "session.close()\n",
        "print(output)"
      ],
      "execution_count": null,
      "outputs": [
        {
          "output_type": "stream",
          "text": [
            "32.0\n"
          ],
          "name": "stdout"
        }
      ]
    },
    {
      "cell_type": "markdown",
      "metadata": {
        "id": "Zcr9iaRWjc3H"
      },
      "source": [
        "## Tensorflow Operations With Eager Execution Mode"
      ]
    },
    {
      "cell_type": "markdown",
      "metadata": {
        "id": "1Odw4Rf0jiAh"
      },
      "source": [
        "Reestart!"
      ]
    },
    {
      "cell_type": "code",
      "metadata": {
        "id": "ls5VX5B1jdjj"
      },
      "source": [
        "import tensorflow as tf\n",
        "import numpy as np"
      ],
      "execution_count": null,
      "outputs": []
    },
    {
      "cell_type": "code",
      "metadata": {
        "id": "c2IJRnzojr28"
      },
      "source": [
        "from tensorflow.python.framework.ops import enable_eager_execution\n",
        "enable_eager_execution()"
      ],
      "execution_count": null,
      "outputs": []
    },
    {
      "cell_type": "code",
      "metadata": {
        "colab": {
          "base_uri": "https://localhost:8080/"
        },
        "id": "BosiFlWojvod",
        "outputId": "33facd94-068d-433b-c6d3-e79496832a17"
      },
      "source": [
        "tf.executing_eagerly()"
      ],
      "execution_count": null,
      "outputs": [
        {
          "output_type": "execute_result",
          "data": {
            "text/plain": [
              "True"
            ]
          },
          "metadata": {
            "tags": []
          },
          "execution_count": 3
        }
      ]
    },
    {
      "cell_type": "code",
      "metadata": {
        "colab": {
          "base_uri": "https://localhost:8080/"
        },
        "id": "6taPdy11jykj",
        "outputId": "189897f9-dfef-4761-e011-beb80def2789"
      },
      "source": [
        "x = [[4]]\n",
        "m = tf.matmul(x, x)\n",
        "print(\"Result, {}\".format(m))"
      ],
      "execution_count": null,
      "outputs": [
        {
          "output_type": "stream",
          "text": [
            "Result, [[16]]\n"
          ],
          "name": "stdout"
        }
      ]
    },
    {
      "cell_type": "code",
      "metadata": {
        "colab": {
          "base_uri": "https://localhost:8080/"
        },
        "id": "bXf4Cr53jz93",
        "outputId": "838c457c-af73-484c-a97c-188f72f3da7c"
      },
      "source": [
        "a = tf.constant(np.array([1., 2., 3.]))\n",
        "type(a)"
      ],
      "execution_count": null,
      "outputs": [
        {
          "output_type": "execute_result",
          "data": {
            "text/plain": [
              "tensorflow.python.framework.ops.EagerTensor"
            ]
          },
          "metadata": {
            "tags": []
          },
          "execution_count": 5
        }
      ]
    },
    {
      "cell_type": "code",
      "metadata": {
        "colab": {
          "base_uri": "https://localhost:8080/"
        },
        "id": "T_Swvsfqj_d4",
        "outputId": "f9d4bf5e-9de6-4527-c9c0-56c744bf6e23"
      },
      "source": [
        "print(a.numpy())"
      ],
      "execution_count": null,
      "outputs": [
        {
          "output_type": "stream",
          "text": [
            "[1. 2. 3.]\n"
          ],
          "name": "stdout"
        }
      ]
    },
    {
      "cell_type": "code",
      "metadata": {
        "colab": {
          "base_uri": "https://localhost:8080/"
        },
        "id": "UxSiiPW0kIwv",
        "outputId": "3a22e638-476b-4331-c9dd-0e3e7d03eaa2"
      },
      "source": [
        "b = tf.constant(np.array([4.,5.,6.]))\n",
        "c = tf.tensordot(a, b, 1)\n",
        "type(c)"
      ],
      "execution_count": null,
      "outputs": [
        {
          "output_type": "execute_result",
          "data": {
            "text/plain": [
              "tensorflow.python.framework.ops.EagerTensor"
            ]
          },
          "metadata": {
            "tags": []
          },
          "execution_count": 10
        }
      ]
    },
    {
      "cell_type": "code",
      "metadata": {
        "colab": {
          "base_uri": "https://localhost:8080/"
        },
        "id": "vyRcAYQokPxW",
        "outputId": "e0cdcf1b-f9c6-4721-8a69-be087b2a014a"
      },
      "source": [
        "print(c.numpy())"
      ],
      "execution_count": null,
      "outputs": [
        {
          "output_type": "stream",
          "text": [
            "32.0\n"
          ],
          "name": "stdout"
        }
      ]
    },
    {
      "cell_type": "markdown",
      "metadata": {
        "id": "VBWPOoVZkgVp"
      },
      "source": [
        "## Dynamic Control Flow"
      ]
    },
    {
      "cell_type": "code",
      "metadata": {
        "id": "oMv3TU55kgy5"
      },
      "source": [
        "def fizzbuzz(max_num):\n",
        "  counter = tf.constant(0)\n",
        "  max_num = tf.convert_to_tensor(max_num)\n",
        "  for num in range(1, max_num.numpy()+1):\n",
        "    num = tf.constant(num)\n",
        "    if int(num % 3) == 0 and int(num % 5) == 0:\n",
        "      print('FizzBuzz')\n",
        "    elif int(num % 3) == 0:\n",
        "      print('Fizz')\n",
        "    elif int(num % 5) == 0:\n",
        "      print('Buzz')\n",
        "    else:\n",
        "      print(num.numpy())\n",
        "    counter += 1"
      ],
      "execution_count": null,
      "outputs": []
    },
    {
      "cell_type": "code",
      "metadata": {
        "id": "iZf_ti1hkmUN",
        "colab": {
          "base_uri": "https://localhost:8080/"
        },
        "outputId": "1e982080-b019-4773-8ea2-49a32d5af278"
      },
      "source": [
        "fizzbuzz(15)"
      ],
      "execution_count": null,
      "outputs": [
        {
          "output_type": "stream",
          "text": [
            "1\n",
            "2\n",
            "Fizz\n",
            "4\n",
            "Buzz\n",
            "Fizz\n",
            "7\n",
            "8\n",
            "Fizz\n",
            "Buzz\n",
            "11\n",
            "Fizz\n",
            "13\n",
            "14\n",
            "FizzBuzz\n"
          ],
          "name": "stdout"
        }
      ]
    }
  ]
}