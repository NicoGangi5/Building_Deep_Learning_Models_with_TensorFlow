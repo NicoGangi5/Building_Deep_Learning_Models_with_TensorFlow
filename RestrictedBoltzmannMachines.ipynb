{
  "nbformat": 4,
  "nbformat_minor": 0,
  "metadata": {
    "colab": {
      "name": "RestrictedBoltzmannMachines.ipynb",
      "provenance": [],
      "collapsed_sections": [],
      "authorship_tag": "ABX9TyP1hqw5A/e14wSRI0ePo65p",
      "include_colab_link": true
    },
    "kernelspec": {
      "name": "python3",
      "display_name": "Python 3"
    }
  },
  "cells": [
    {
      "cell_type": "markdown",
      "metadata": {
        "id": "view-in-github",
        "colab_type": "text"
      },
      "source": [
        "<a href=\"https://colab.research.google.com/github/NicoGangi5/Building_Deep_Learning_Models_with_TensorFlow/blob/main/RestrictedBoltzmannMachines.ipynb\" target=\"_parent\"><img src=\"https://colab.research.google.com/assets/colab-badge.svg\" alt=\"Open In Colab\"/></a>"
      ]
    },
    {
      "cell_type": "code",
      "metadata": {
        "id": "cc3_SWqtjf-N"
      },
      "source": [
        "import urllib.request\n",
        "with urllib.request.urlopen(\"https://cf-courses-data.s3.us.cloud-object-storage.appdomain.cloud/IBMDeveloperSkillsNetwork-DL0120EN-SkillsNetwork/labs/Week4/data/utils.py\") as url:\n",
        "    response = url.read()\n",
        "target = open('utils.py', 'w')\n",
        "target.write(response.decode('utf-8'))\n",
        "target.close()"
      ],
      "execution_count": null,
      "outputs": []
    },
    {
      "cell_type": "code",
      "metadata": {
        "id": "ARioORGAj2oC"
      },
      "source": [
        "import tensorflow as tf\n",
        "from IPython.display import Markdown, display\n",
        "\n",
        "def printmd(string):\n",
        "    display(Markdown('# <span style=\"color:red\">'+string+'</span>'))"
      ],
      "execution_count": null,
      "outputs": []
    },
    {
      "cell_type": "code",
      "metadata": {
        "id": "9NH2WJsaj6fu"
      },
      "source": [
        "import tensorflow as tf\n",
        "import numpy as np\n",
        "\n",
        "from PIL import Image\n",
        "from utils import tile_raster_images\n",
        "import matplotlib.pyplot as plt\n",
        "%matplotlib inline"
      ],
      "execution_count": null,
      "outputs": []
    },
    {
      "cell_type": "markdown",
      "metadata": {
        "id": "JzEzR8Hmj8gN"
      },
      "source": [
        "# RBM Layers"
      ]
    },
    {
      "cell_type": "code",
      "metadata": {
        "id": "hK57cclBkL8m"
      },
      "source": [
        "v_bias = tf.Variable(tf.zeros([7]), tf.float32)\n",
        "h_bias = tf.Variable(tf.zeros([2]), tf.float32)"
      ],
      "execution_count": null,
      "outputs": []
    },
    {
      "cell_type": "code",
      "metadata": {
        "id": "dS7yxCwYkMYu"
      },
      "source": [
        "W = tf.constant(np.random.normal(loc=0.0, scale=1.0, size=(7, 2)).astype(np.float32))"
      ],
      "execution_count": null,
      "outputs": []
    },
    {
      "cell_type": "markdown",
      "metadata": {
        "id": "SzNIWRSckWfq"
      },
      "source": [
        "# What RBM can do after training?"
      ]
    },
    {
      "cell_type": "code",
      "metadata": {
        "colab": {
          "base_uri": "https://localhost:8080/"
        },
        "id": "beIXXcn0kYUP",
        "outputId": "4969ac82-39d3-4ed8-cfb0-3f59443c6106"
      },
      "source": [
        "X = tf.constant([[1.0, 0.0, 0.0, 1.0, 0.0, 0.0, 0.0]], tf.float32)\n",
        "\n",
        "v_state = X\n",
        "print (\"Input: \", v_state)\n",
        "\n",
        "h_bias = tf.constant([0.1, 0.1])\n",
        "print (\"hb: \", h_bias)\n",
        "print (\"w: \", W)\n",
        "\n",
        "# Calculate the probabilities of turning the hidden units on:\n",
        "h_prob = tf.nn.sigmoid(tf.matmul(v_state, W) + h_bias)  #probabilities of the hidden units\n",
        "print (\"p(h|v): \", h_prob)\n",
        "\n",
        "# Draw samples from the distribution:\n",
        "h_state = tf.nn.relu(tf.sign(h_prob - tf.random.uniform(tf.shape(h_prob)))) #states\n",
        "print (\"h0 states:\", h_state)"
      ],
      "execution_count": null,
      "outputs": [
        {
          "output_type": "stream",
          "text": [
            "Input:  tf.Tensor([[1. 0. 0. 1. 0. 0. 0.]], shape=(1, 7), dtype=float32)\n",
            "hb:  tf.Tensor([0.1 0.1], shape=(2,), dtype=float32)\n",
            "w:  tf.Tensor(\n",
            "[[ 1.7926503  -0.06165001]\n",
            " [ 0.45904505 -0.08985916]\n",
            " [-0.87431407 -2.6080167 ]\n",
            " [ 0.8539775  -1.4369845 ]\n",
            " [-0.18789689  0.31452438]\n",
            " [ 0.49114582  0.40892375]\n",
            " [-0.6488202  -0.5696388 ]], shape=(7, 2), dtype=float32)\n",
            "p(h|v):  tf.Tensor([[0.93972266 0.19803292]], shape=(1, 2), dtype=float32)\n",
            "h0 states: tf.Tensor([[1. 0.]], shape=(1, 2), dtype=float32)\n"
          ],
          "name": "stdout"
        }
      ]
    },
    {
      "cell_type": "code",
      "metadata": {
        "colab": {
          "base_uri": "https://localhost:8080/"
        },
        "id": "zaTYUmUalHJ_",
        "outputId": "d4109c75-b4a6-4123-c6a7-10f7c205ec0d"
      },
      "source": [
        "vb = tf.constant([0.1, 0.2, 0.1, 0.1, 0.1, 0.2, 0.1])\n",
        "print (\"b: \", vb)\n",
        "v_prob = tf.nn.sigmoid(tf.matmul(h_state, tf.transpose(W)) + vb)\n",
        "print (\"p(vi∣h): \", v_prob)\n",
        "v_state = tf.nn.relu(tf.sign(v_prob - tf.random.uniform(tf.shape(v_prob))))\n",
        "print (\"v probability states: \", v_state)"
      ],
      "execution_count": null,
      "outputs": [
        {
          "output_type": "stream",
          "text": [
            "b:  tf.Tensor([0.1 0.2 0.1 0.1 0.1 0.2 0.1], shape=(7,), dtype=float32)\n",
            "p(vi∣h):  tf.Tensor(\n",
            "[[0.8690574  0.6590458  0.31554663 0.7219144  0.47803992 0.66622174\n",
            "  0.36613816]], shape=(1, 7), dtype=float32)\n",
            "v probability states:  tf.Tensor([[1. 1. 0. 1. 1. 1. 0.]], shape=(1, 7), dtype=float32)\n"
          ],
          "name": "stdout"
        }
      ]
    },
    {
      "cell_type": "code",
      "metadata": {
        "colab": {
          "base_uri": "https://localhost:8080/"
        },
        "id": "XceAkSDylIj_",
        "outputId": "29b2dc6f-8ad5-45d0-b9eb-3b5d5524b77c"
      },
      "source": [
        "inp = X\n",
        "print(\"input X:\" , inp.numpy())\n",
        "\n",
        "print(\"probablity vector:\" , v_prob[0].numpy())\n",
        "v_probability = 1\n",
        "\n",
        "for elm, p in zip(inp[0],v_prob[0]) :\n",
        "    if elm ==1:\n",
        "        v_probability *= p\n",
        "    else:\n",
        "        v_probability *= (1-p)\n",
        "\n",
        "print(\"probability of generating X: \" , v_probability.numpy())"
      ],
      "execution_count": null,
      "outputs": [
        {
          "output_type": "stream",
          "text": [
            "input X: [[1. 0. 0. 1. 0. 0. 0.]]\n",
            "probablity vector: [0.8690574  0.6590458  0.31554663 0.7219144  0.47803992 0.66622174\n",
            " 0.36613816]\n",
            "probability of generating X:  0.016168287\n"
          ],
          "name": "stdout"
        }
      ]
    },
    {
      "cell_type": "markdown",
      "metadata": {
        "id": "n0hqHLSBlKd_"
      },
      "source": [
        "# MNIST"
      ]
    },
    {
      "cell_type": "code",
      "metadata": {
        "colab": {
          "base_uri": "https://localhost:8080/"
        },
        "id": "drlfx8_ZlLij",
        "outputId": "18037810-0f8c-470c-b27e-a923e053686b"
      },
      "source": [
        "#loading training and test data\n",
        "mnist = tf.keras.datasets.mnist\n",
        "(trX, trY), (teX, teY) = mnist.load_data()\n",
        "\n",
        "# showing an example of the Flatten class and operation\n",
        "from tensorflow.keras.layers import Flatten\n",
        "flatten = Flatten(dtype='float32')\n",
        "trX = flatten(trX/255.0)\n",
        "trY = flatten(trY/255.0)"
      ],
      "execution_count": null,
      "outputs": [
        {
          "output_type": "stream",
          "text": [
            "Downloading data from https://storage.googleapis.com/tensorflow/tf-keras-datasets/mnist.npz\n",
            "11493376/11490434 [==============================] - 0s 0us/step\n"
          ],
          "name": "stdout"
        }
      ]
    },
    {
      "cell_type": "code",
      "metadata": {
        "id": "MwB53QoblfRM"
      },
      "source": [
        "vb = tf.Variable(tf.zeros([784]), tf.float32)\n",
        "hb = tf.Variable(tf.zeros([50]), tf.float32)"
      ],
      "execution_count": null,
      "outputs": []
    },
    {
      "cell_type": "code",
      "metadata": {
        "id": "1Vid9mOIlg3S"
      },
      "source": [
        "W = tf.Variable(tf.zeros([784,50]), tf.float32)"
      ],
      "execution_count": null,
      "outputs": []
    },
    {
      "cell_type": "code",
      "metadata": {
        "colab": {
          "base_uri": "https://localhost:8080/"
        },
        "id": "ga1cN85TljKO",
        "outputId": "d5963c56-39a5-4926-b1f4-4772f10ac7a6"
      },
      "source": [
        "v0_state = tf.Variable(tf.zeros([784]), tf.float32)\n",
        "\n",
        "#testing to see if the matrix product works\n",
        "tf.matmul( [v0_state], W)"
      ],
      "execution_count": null,
      "outputs": [
        {
          "output_type": "execute_result",
          "data": {
            "text/plain": [
              "<tf.Tensor: shape=(1, 50), dtype=float32, numpy=\n",
              "array([[0., 0., 0., 0., 0., 0., 0., 0., 0., 0., 0., 0., 0., 0., 0., 0.,\n",
              "        0., 0., 0., 0., 0., 0., 0., 0., 0., 0., 0., 0., 0., 0., 0., 0.,\n",
              "        0., 0., 0., 0., 0., 0., 0., 0., 0., 0., 0., 0., 0., 0., 0., 0.,\n",
              "        0., 0.]], dtype=float32)>"
            ]
          },
          "metadata": {
            "tags": []
          },
          "execution_count": 14
        }
      ]
    },
    {
      "cell_type": "code",
      "metadata": {
        "colab": {
          "base_uri": "https://localhost:8080/"
        },
        "id": "1SXNhtwGlnUc",
        "outputId": "6523bd29-f52d-4e09-d54f-cd1d2b46ba8b"
      },
      "source": [
        "#computing the hidden nodes probability vector and checking shape\n",
        "h0_prob = tf.nn.sigmoid(tf.matmul([v0_state], W) + hb)  #probabilities of the hidden units\n",
        "print(\"h0_state shape: \" , tf.shape(h0_prob))\n",
        "\n",
        "#defining a function to return only the generated hidden states \n",
        "def hidden_layer(v0_state, W, hb):\n",
        "    h0_prob = tf.nn.sigmoid(tf.matmul([v0_state], W) + hb)  #probabilities of the hidden units\n",
        "    h0_state = tf.nn.relu(tf.sign(h0_prob - tf.random.uniform(tf.shape(h0_prob)))) #sample_h_given_X\n",
        "    return h0_state\n",
        "\n",
        "\n",
        "h0_state = hidden_layer(v0_state, W, hb)\n",
        "print(\"first 15 hidden states: \", h0_state[0][0:15])"
      ],
      "execution_count": null,
      "outputs": [
        {
          "output_type": "stream",
          "text": [
            "h0_state shape:  tf.Tensor([ 1 50], shape=(2,), dtype=int32)\n",
            "first 15 hidden states:  tf.Tensor([0. 1. 0. 1. 1. 1. 1. 1. 0. 0. 0. 1. 1. 1. 1.], shape=(15,), dtype=float32)\n"
          ],
          "name": "stdout"
        }
      ]
    },
    {
      "cell_type": "code",
      "metadata": {
        "colab": {
          "base_uri": "https://localhost:8080/"
        },
        "id": "j33yWFb-lqhD",
        "outputId": "457f718e-c0f3-42d1-a990-9192cf9d601e"
      },
      "source": [
        "def reconstructed_output(h0_state, W, vb):\n",
        "    v1_prob = tf.nn.sigmoid(tf.matmul(h0_state, tf.transpose(W)) + vb) \n",
        "    v1_state = tf.nn.relu(tf.sign(v1_prob - tf.random.uniform(tf.shape(v1_prob)))) #sample_v_given_h\n",
        "    return v1_state[0]\n",
        "\n",
        "v1_state = reconstructed_output(h0_state, W, vb)\n",
        "print(\"hidden state shape: \", h0_state.shape)\n",
        "print(\"v0 state shape:  \", v0_state.shape)\n",
        "print(\"v1 state shape:  \", v1_state.shape)"
      ],
      "execution_count": null,
      "outputs": [
        {
          "output_type": "stream",
          "text": [
            "hidden state shape:  (1, 50)\n",
            "v0 state shape:   (784,)\n",
            "v1 state shape:   (784,)\n"
          ],
          "name": "stdout"
        }
      ]
    },
    {
      "cell_type": "markdown",
      "metadata": {
        "id": "DpOMleisl2t3"
      },
      "source": [
        "# What is the objective function?"
      ]
    },
    {
      "cell_type": "code",
      "metadata": {
        "colab": {
          "base_uri": "https://localhost:8080/"
        },
        "id": "SF5iOfTpl3TA",
        "outputId": "ab7de614-70ba-4e18-a5be-69cfdb61a1a5"
      },
      "source": [
        "def error(v0_state, v1_state):\n",
        "    return tf.reduce_mean(tf.square(v0_state - v1_state))\n",
        "\n",
        "err = tf.reduce_mean(tf.square(v0_state - v1_state))\n",
        "print(\"error\" , err.numpy())"
      ],
      "execution_count": null,
      "outputs": [
        {
          "output_type": "stream",
          "text": [
            "error 0.48469388\n"
          ],
          "name": "stdout"
        }
      ]
    },
    {
      "cell_type": "markdown",
      "metadata": {
        "id": "Ab97lyQgl5Qn"
      },
      "source": [
        "# Training the Model"
      ]
    },
    {
      "cell_type": "code",
      "metadata": {
        "id": "xTIXlyftl7o7"
      },
      "source": [
        "h1_prob = tf.nn.sigmoid(tf.matmul([v1_state], W) + hb)\n",
        "h1_state = tf.nn.relu(tf.sign(h1_prob - tf.random.uniform(tf.shape(h1_prob)))) #sample_h_given_X"
      ],
      "execution_count": null,
      "outputs": []
    },
    {
      "cell_type": "code",
      "metadata": {
        "colab": {
          "base_uri": "https://localhost:8080/"
        },
        "id": "seni9A17l-ei",
        "outputId": "d3d85e66-27cb-4813-d01e-dcb0237667f3"
      },
      "source": [
        "print(\"error: \", error(v0_state, v1_state))"
      ],
      "execution_count": null,
      "outputs": [
        {
          "output_type": "stream",
          "text": [
            "error:  tf.Tensor(0.48469388, shape=(), dtype=float32)\n"
          ],
          "name": "stdout"
        }
      ]
    },
    {
      "cell_type": "code",
      "metadata": {
        "colab": {
          "base_uri": "https://localhost:8080/"
        },
        "id": "livLGD45mA4G",
        "outputId": "1018900d-7ac4-4a7e-ddd2-557ce2634ba2"
      },
      "source": [
        "#Parameters\n",
        "alpha = 0.01\n",
        "epochs = 1\n",
        "batchsize = 200\n",
        "weights = []\n",
        "errors = []\n",
        "batch_number = 0\n",
        "K = 1\n",
        "\n",
        "#creating datasets\n",
        "train_ds = \\\n",
        "    tf.data.Dataset.from_tensor_slices((trX, trY)).batch(batchsize)\n",
        "\n",
        "for epoch in range(epochs):\n",
        "    for batch_x, batch_y in train_ds:\n",
        "        batch_number += 1\n",
        "        for i_sample in range(batchsize):           \n",
        "            for k in range(K):\n",
        "                v0_state = batch_x[i_sample]\n",
        "                h0_state = hidden_layer(v0_state, W, hb)\n",
        "                v1_state = reconstructed_output(h0_state, W, vb)\n",
        "                h1_state = hidden_layer(v1_state, W, hb)\n",
        "\n",
        "                delta_W = tf.matmul(tf.transpose([v0_state]), h0_state) - tf.matmul(tf.transpose([v1_state]), h1_state)\n",
        "                W = W + alpha * delta_W\n",
        "\n",
        "                vb = vb + alpha * tf.reduce_mean(v0_state - v1_state, 0)\n",
        "                hb = hb + alpha * tf.reduce_mean(h0_state - h1_state, 0) \n",
        "\n",
        "                v0_state = v1_state\n",
        "\n",
        "            if i_sample == batchsize-1:\n",
        "                err = error(batch_x[i_sample], v1_state)\n",
        "                errors.append(err)\n",
        "                weights.append(W)\n",
        "                print ( 'Epoch: %d' % epoch, \n",
        "                       \"batch #: %i \" % batch_number, \"of %i\" % int(60e3/batchsize), \n",
        "                       \"sample #: %i\" % i_sample,\n",
        "                       'reconstruction error: %f' % err)\n"
      ],
      "execution_count": null,
      "outputs": [
        {
          "output_type": "stream",
          "text": [
            "Epoch: 0 batch #: 1  of 300 sample #: 199 reconstruction error: 0.166109\n",
            "Epoch: 0 batch #: 2  of 300 sample #: 199 reconstruction error: 0.213698\n",
            "Epoch: 0 batch #: 3  of 300 sample #: 199 reconstruction error: 0.106039\n",
            "Epoch: 0 batch #: 4  of 300 sample #: 199 reconstruction error: 0.118709\n",
            "Epoch: 0 batch #: 5  of 300 sample #: 199 reconstruction error: 0.099328\n",
            "Epoch: 0 batch #: 6  of 300 sample #: 199 reconstruction error: 0.178150\n",
            "Epoch: 0 batch #: 7  of 300 sample #: 199 reconstruction error: 0.092195\n",
            "Epoch: 0 batch #: 8  of 300 sample #: 199 reconstruction error: 0.121034\n",
            "Epoch: 0 batch #: 9  of 300 sample #: 199 reconstruction error: 0.100687\n",
            "Epoch: 0 batch #: 10  of 300 sample #: 199 reconstruction error: 0.175111\n",
            "Epoch: 0 batch #: 11  of 300 sample #: 199 reconstruction error: 0.089715\n",
            "Epoch: 0 batch #: 12  of 300 sample #: 199 reconstruction error: 0.136661\n",
            "Epoch: 0 batch #: 13  of 300 sample #: 199 reconstruction error: 0.062798\n",
            "Epoch: 0 batch #: 14  of 300 sample #: 199 reconstruction error: 0.109030\n",
            "Epoch: 0 batch #: 15  of 300 sample #: 199 reconstruction error: 0.102117\n",
            "Epoch: 0 batch #: 16  of 300 sample #: 199 reconstruction error: 0.100785\n",
            "Epoch: 0 batch #: 17  of 300 sample #: 199 reconstruction error: 0.074137\n",
            "Epoch: 0 batch #: 18  of 300 sample #: 199 reconstruction error: 0.125467\n",
            "Epoch: 0 batch #: 19  of 300 sample #: 199 reconstruction error: 0.134388\n",
            "Epoch: 0 batch #: 20  of 300 sample #: 199 reconstruction error: 0.111255\n",
            "Epoch: 0 batch #: 21  of 300 sample #: 199 reconstruction error: 0.103534\n",
            "Epoch: 0 batch #: 22  of 300 sample #: 199 reconstruction error: 0.079565\n",
            "Epoch: 0 batch #: 23  of 300 sample #: 199 reconstruction error: 0.118063\n",
            "Epoch: 0 batch #: 24  of 300 sample #: 199 reconstruction error: 0.109663\n",
            "Epoch: 0 batch #: 25  of 300 sample #: 199 reconstruction error: 0.092467\n",
            "Epoch: 0 batch #: 26  of 300 sample #: 199 reconstruction error: 0.100462\n",
            "Epoch: 0 batch #: 27  of 300 sample #: 199 reconstruction error: 0.118587\n",
            "Epoch: 0 batch #: 28  of 300 sample #: 199 reconstruction error: 0.101282\n",
            "Epoch: 0 batch #: 29  of 300 sample #: 199 reconstruction error: 0.109064\n",
            "Epoch: 0 batch #: 30  of 300 sample #: 199 reconstruction error: 0.085457\n",
            "Epoch: 0 batch #: 31  of 300 sample #: 199 reconstruction error: 0.092994\n",
            "Epoch: 0 batch #: 32  of 300 sample #: 199 reconstruction error: 0.112896\n",
            "Epoch: 0 batch #: 33  of 300 sample #: 199 reconstruction error: 0.060173\n",
            "Epoch: 0 batch #: 34  of 300 sample #: 199 reconstruction error: 0.068137\n",
            "Epoch: 0 batch #: 35  of 300 sample #: 199 reconstruction error: 0.075631\n",
            "Epoch: 0 batch #: 36  of 300 sample #: 199 reconstruction error: 0.080687\n",
            "Epoch: 0 batch #: 37  of 300 sample #: 199 reconstruction error: 0.074428\n",
            "Epoch: 0 batch #: 38  of 300 sample #: 199 reconstruction error: 0.050785\n",
            "Epoch: 0 batch #: 39  of 300 sample #: 199 reconstruction error: 0.098615\n",
            "Epoch: 0 batch #: 40  of 300 sample #: 199 reconstruction error: 0.126210\n",
            "Epoch: 0 batch #: 41  of 300 sample #: 199 reconstruction error: 0.066583\n",
            "Epoch: 0 batch #: 42  of 300 sample #: 199 reconstruction error: 0.073733\n",
            "Epoch: 0 batch #: 43  of 300 sample #: 199 reconstruction error: 0.131411\n",
            "Epoch: 0 batch #: 44  of 300 sample #: 199 reconstruction error: 0.073416\n",
            "Epoch: 0 batch #: 45  of 300 sample #: 199 reconstruction error: 0.061887\n",
            "Epoch: 0 batch #: 46  of 300 sample #: 199 reconstruction error: 0.036248\n",
            "Epoch: 0 batch #: 47  of 300 sample #: 199 reconstruction error: 0.029926\n",
            "Epoch: 0 batch #: 48  of 300 sample #: 199 reconstruction error: 0.032598\n",
            "Epoch: 0 batch #: 49  of 300 sample #: 199 reconstruction error: 0.109517\n",
            "Epoch: 0 batch #: 50  of 300 sample #: 199 reconstruction error: 0.052949\n",
            "Epoch: 0 batch #: 51  of 300 sample #: 199 reconstruction error: 0.051426\n",
            "Epoch: 0 batch #: 52  of 300 sample #: 199 reconstruction error: 0.030358\n",
            "Epoch: 0 batch #: 53  of 300 sample #: 199 reconstruction error: 0.100540\n",
            "Epoch: 0 batch #: 54  of 300 sample #: 199 reconstruction error: 0.064249\n",
            "Epoch: 0 batch #: 55  of 300 sample #: 199 reconstruction error: 0.113111\n",
            "Epoch: 0 batch #: 56  of 300 sample #: 199 reconstruction error: 0.053089\n",
            "Epoch: 0 batch #: 57  of 300 sample #: 199 reconstruction error: 0.048505\n",
            "Epoch: 0 batch #: 58  of 300 sample #: 199 reconstruction error: 0.073172\n",
            "Epoch: 0 batch #: 59  of 300 sample #: 199 reconstruction error: 0.053980\n",
            "Epoch: 0 batch #: 60  of 300 sample #: 199 reconstruction error: 0.108485\n",
            "Epoch: 0 batch #: 61  of 300 sample #: 199 reconstruction error: 0.060499\n",
            "Epoch: 0 batch #: 62  of 300 sample #: 199 reconstruction error: 0.084780\n",
            "Epoch: 0 batch #: 63  of 300 sample #: 199 reconstruction error: 0.054611\n",
            "Epoch: 0 batch #: 64  of 300 sample #: 199 reconstruction error: 0.076609\n",
            "Epoch: 0 batch #: 65  of 300 sample #: 199 reconstruction error: 0.093493\n",
            "Epoch: 0 batch #: 66  of 300 sample #: 199 reconstruction error: 0.055524\n",
            "Epoch: 0 batch #: 67  of 300 sample #: 199 reconstruction error: 0.048905\n",
            "Epoch: 0 batch #: 68  of 300 sample #: 199 reconstruction error: 0.075333\n",
            "Epoch: 0 batch #: 69  of 300 sample #: 199 reconstruction error: 0.092031\n",
            "Epoch: 0 batch #: 70  of 300 sample #: 199 reconstruction error: 0.096583\n",
            "Epoch: 0 batch #: 71  of 300 sample #: 199 reconstruction error: 0.077165\n",
            "Epoch: 0 batch #: 72  of 300 sample #: 199 reconstruction error: 0.062651\n",
            "Epoch: 0 batch #: 73  of 300 sample #: 199 reconstruction error: 0.085173\n",
            "Epoch: 0 batch #: 74  of 300 sample #: 199 reconstruction error: 0.102302\n",
            "Epoch: 0 batch #: 75  of 300 sample #: 199 reconstruction error: 0.055271\n",
            "Epoch: 0 batch #: 76  of 300 sample #: 199 reconstruction error: 0.084609\n",
            "Epoch: 0 batch #: 77  of 300 sample #: 199 reconstruction error: 0.107591\n",
            "Epoch: 0 batch #: 78  of 300 sample #: 199 reconstruction error: 0.101193\n",
            "Epoch: 0 batch #: 79  of 300 sample #: 199 reconstruction error: 0.114379\n",
            "Epoch: 0 batch #: 80  of 300 sample #: 199 reconstruction error: 0.034547\n",
            "Epoch: 0 batch #: 81  of 300 sample #: 199 reconstruction error: 0.054511\n",
            "Epoch: 0 batch #: 82  of 300 sample #: 199 reconstruction error: 0.055786\n",
            "Epoch: 0 batch #: 83  of 300 sample #: 199 reconstruction error: 0.073579\n",
            "Epoch: 0 batch #: 84  of 300 sample #: 199 reconstruction error: 0.075642\n",
            "Epoch: 0 batch #: 85  of 300 sample #: 199 reconstruction error: 0.049500\n",
            "Epoch: 0 batch #: 86  of 300 sample #: 199 reconstruction error: 0.083213\n",
            "Epoch: 0 batch #: 87  of 300 sample #: 199 reconstruction error: 0.070548\n",
            "Epoch: 0 batch #: 88  of 300 sample #: 199 reconstruction error: 0.025791\n",
            "Epoch: 0 batch #: 89  of 300 sample #: 199 reconstruction error: 0.065356\n",
            "Epoch: 0 batch #: 90  of 300 sample #: 199 reconstruction error: 0.075820\n",
            "Epoch: 0 batch #: 91  of 300 sample #: 199 reconstruction error: 0.070460\n",
            "Epoch: 0 batch #: 92  of 300 sample #: 199 reconstruction error: 0.073862\n",
            "Epoch: 0 batch #: 93  of 300 sample #: 199 reconstruction error: 0.100522\n",
            "Epoch: 0 batch #: 94  of 300 sample #: 199 reconstruction error: 0.129226\n",
            "Epoch: 0 batch #: 95  of 300 sample #: 199 reconstruction error: 0.063775\n",
            "Epoch: 0 batch #: 96  of 300 sample #: 199 reconstruction error: 0.059397\n",
            "Epoch: 0 batch #: 97  of 300 sample #: 199 reconstruction error: 0.093975\n",
            "Epoch: 0 batch #: 98  of 300 sample #: 199 reconstruction error: 0.096397\n",
            "Epoch: 0 batch #: 99  of 300 sample #: 199 reconstruction error: 0.049613\n",
            "Epoch: 0 batch #: 100  of 300 sample #: 199 reconstruction error: 0.115545\n",
            "Epoch: 0 batch #: 101  of 300 sample #: 199 reconstruction error: 0.083691\n",
            "Epoch: 0 batch #: 102  of 300 sample #: 199 reconstruction error: 0.084003\n",
            "Epoch: 0 batch #: 103  of 300 sample #: 199 reconstruction error: 0.098072\n",
            "Epoch: 0 batch #: 104  of 300 sample #: 199 reconstruction error: 0.073383\n",
            "Epoch: 0 batch #: 105  of 300 sample #: 199 reconstruction error: 0.052068\n",
            "Epoch: 0 batch #: 106  of 300 sample #: 199 reconstruction error: 0.095803\n",
            "Epoch: 0 batch #: 107  of 300 sample #: 199 reconstruction error: 0.143065\n",
            "Epoch: 0 batch #: 108  of 300 sample #: 199 reconstruction error: 0.061219\n",
            "Epoch: 0 batch #: 109  of 300 sample #: 199 reconstruction error: 0.103877\n",
            "Epoch: 0 batch #: 110  of 300 sample #: 199 reconstruction error: 0.068680\n",
            "Epoch: 0 batch #: 111  of 300 sample #: 199 reconstruction error: 0.100927\n",
            "Epoch: 0 batch #: 112  of 300 sample #: 199 reconstruction error: 0.044717\n",
            "Epoch: 0 batch #: 113  of 300 sample #: 199 reconstruction error: 0.075575\n",
            "Epoch: 0 batch #: 114  of 300 sample #: 199 reconstruction error: 0.088630\n",
            "Epoch: 0 batch #: 115  of 300 sample #: 199 reconstruction error: 0.073076\n",
            "Epoch: 0 batch #: 116  of 300 sample #: 199 reconstruction error: 0.062555\n",
            "Epoch: 0 batch #: 117  of 300 sample #: 199 reconstruction error: 0.051891\n",
            "Epoch: 0 batch #: 118  of 300 sample #: 199 reconstruction error: 0.088532\n",
            "Epoch: 0 batch #: 119  of 300 sample #: 199 reconstruction error: 0.106191\n",
            "Epoch: 0 batch #: 120  of 300 sample #: 199 reconstruction error: 0.069003\n",
            "Epoch: 0 batch #: 121  of 300 sample #: 199 reconstruction error: 0.033344\n",
            "Epoch: 0 batch #: 122  of 300 sample #: 199 reconstruction error: 0.097256\n",
            "Epoch: 0 batch #: 123  of 300 sample #: 199 reconstruction error: 0.056040\n",
            "Epoch: 0 batch #: 124  of 300 sample #: 199 reconstruction error: 0.066031\n",
            "Epoch: 0 batch #: 125  of 300 sample #: 199 reconstruction error: 0.042545\n",
            "Epoch: 0 batch #: 126  of 300 sample #: 199 reconstruction error: 0.101449\n",
            "Epoch: 0 batch #: 127  of 300 sample #: 199 reconstruction error: 0.096862\n",
            "Epoch: 0 batch #: 128  of 300 sample #: 199 reconstruction error: 0.080056\n",
            "Epoch: 0 batch #: 129  of 300 sample #: 199 reconstruction error: 0.051490\n",
            "Epoch: 0 batch #: 130  of 300 sample #: 199 reconstruction error: 0.076795\n",
            "Epoch: 0 batch #: 131  of 300 sample #: 199 reconstruction error: 0.074101\n",
            "Epoch: 0 batch #: 132  of 300 sample #: 199 reconstruction error: 0.052823\n",
            "Epoch: 0 batch #: 133  of 300 sample #: 199 reconstruction error: 0.062823\n",
            "Epoch: 0 batch #: 134  of 300 sample #: 199 reconstruction error: 0.100564\n",
            "Epoch: 0 batch #: 135  of 300 sample #: 199 reconstruction error: 0.096454\n",
            "Epoch: 0 batch #: 136  of 300 sample #: 199 reconstruction error: 0.096622\n",
            "Epoch: 0 batch #: 137  of 300 sample #: 199 reconstruction error: 0.061908\n",
            "Epoch: 0 batch #: 138  of 300 sample #: 199 reconstruction error: 0.079265\n",
            "Epoch: 0 batch #: 139  of 300 sample #: 199 reconstruction error: 0.109339\n",
            "Epoch: 0 batch #: 140  of 300 sample #: 199 reconstruction error: 0.086370\n",
            "Epoch: 0 batch #: 141  of 300 sample #: 199 reconstruction error: 0.092704\n",
            "Epoch: 0 batch #: 142  of 300 sample #: 199 reconstruction error: 0.056424\n",
            "Epoch: 0 batch #: 143  of 300 sample #: 199 reconstruction error: 0.059593\n",
            "Epoch: 0 batch #: 144  of 300 sample #: 199 reconstruction error: 0.067023\n",
            "Epoch: 0 batch #: 145  of 300 sample #: 199 reconstruction error: 0.089815\n",
            "Epoch: 0 batch #: 146  of 300 sample #: 199 reconstruction error: 0.105735\n",
            "Epoch: 0 batch #: 147  of 300 sample #: 199 reconstruction error: 0.064178\n",
            "Epoch: 0 batch #: 148  of 300 sample #: 199 reconstruction error: 0.086969\n",
            "Epoch: 0 batch #: 149  of 300 sample #: 199 reconstruction error: 0.051255\n",
            "Epoch: 0 batch #: 150  of 300 sample #: 199 reconstruction error: 0.051203\n",
            "Epoch: 0 batch #: 151  of 300 sample #: 199 reconstruction error: 0.101695\n",
            "Epoch: 0 batch #: 152  of 300 sample #: 199 reconstruction error: 0.088656\n",
            "Epoch: 0 batch #: 153  of 300 sample #: 199 reconstruction error: 0.062548\n",
            "Epoch: 0 batch #: 154  of 300 sample #: 199 reconstruction error: 0.081790\n",
            "Epoch: 0 batch #: 155  of 300 sample #: 199 reconstruction error: 0.062953\n",
            "Epoch: 0 batch #: 156  of 300 sample #: 199 reconstruction error: 0.081344\n",
            "Epoch: 0 batch #: 157  of 300 sample #: 199 reconstruction error: 0.090048\n",
            "Epoch: 0 batch #: 158  of 300 sample #: 199 reconstruction error: 0.074386\n",
            "Epoch: 0 batch #: 159  of 300 sample #: 199 reconstruction error: 0.062438\n",
            "Epoch: 0 batch #: 160  of 300 sample #: 199 reconstruction error: 0.071433\n",
            "Epoch: 0 batch #: 161  of 300 sample #: 199 reconstruction error: 0.088747\n",
            "Epoch: 0 batch #: 162  of 300 sample #: 199 reconstruction error: 0.099148\n",
            "Epoch: 0 batch #: 163  of 300 sample #: 199 reconstruction error: 0.035130\n",
            "Epoch: 0 batch #: 164  of 300 sample #: 199 reconstruction error: 0.062764\n",
            "Epoch: 0 batch #: 165  of 300 sample #: 199 reconstruction error: 0.086762\n",
            "Epoch: 0 batch #: 166  of 300 sample #: 199 reconstruction error: 0.051982\n",
            "Epoch: 0 batch #: 167  of 300 sample #: 199 reconstruction error: 0.091986\n",
            "Epoch: 0 batch #: 168  of 300 sample #: 199 reconstruction error: 0.057850\n",
            "Epoch: 0 batch #: 169  of 300 sample #: 199 reconstruction error: 0.043734\n",
            "Epoch: 0 batch #: 170  of 300 sample #: 199 reconstruction error: 0.062890\n",
            "Epoch: 0 batch #: 171  of 300 sample #: 199 reconstruction error: 0.024398\n",
            "Epoch: 0 batch #: 172  of 300 sample #: 199 reconstruction error: 0.049817\n",
            "Epoch: 0 batch #: 173  of 300 sample #: 199 reconstruction error: 0.064235\n",
            "Epoch: 0 batch #: 174  of 300 sample #: 199 reconstruction error: 0.111765\n",
            "Epoch: 0 batch #: 175  of 300 sample #: 199 reconstruction error: 0.082997\n",
            "Epoch: 0 batch #: 176  of 300 sample #: 199 reconstruction error: 0.055885\n",
            "Epoch: 0 batch #: 177  of 300 sample #: 199 reconstruction error: 0.028899\n",
            "Epoch: 0 batch #: 178  of 300 sample #: 199 reconstruction error: 0.094716\n",
            "Epoch: 0 batch #: 179  of 300 sample #: 199 reconstruction error: 0.062709\n",
            "Epoch: 0 batch #: 180  of 300 sample #: 199 reconstruction error: 0.096076\n",
            "Epoch: 0 batch #: 181  of 300 sample #: 199 reconstruction error: 0.103461\n",
            "Epoch: 0 batch #: 182  of 300 sample #: 199 reconstruction error: 0.079282\n",
            "Epoch: 0 batch #: 183  of 300 sample #: 199 reconstruction error: 0.110614\n",
            "Epoch: 0 batch #: 184  of 300 sample #: 199 reconstruction error: 0.056455\n",
            "Epoch: 0 batch #: 185  of 300 sample #: 199 reconstruction error: 0.079561\n",
            "Epoch: 0 batch #: 186  of 300 sample #: 199 reconstruction error: 0.098052\n",
            "Epoch: 0 batch #: 187  of 300 sample #: 199 reconstruction error: 0.076071\n",
            "Epoch: 0 batch #: 188  of 300 sample #: 199 reconstruction error: 0.103362\n",
            "Epoch: 0 batch #: 189  of 300 sample #: 199 reconstruction error: 0.074110\n",
            "Epoch: 0 batch #: 190  of 300 sample #: 199 reconstruction error: 0.061657\n",
            "Epoch: 0 batch #: 191  of 300 sample #: 199 reconstruction error: 0.125086\n",
            "Epoch: 0 batch #: 192  of 300 sample #: 199 reconstruction error: 0.128297\n",
            "Epoch: 0 batch #: 193  of 300 sample #: 199 reconstruction error: 0.101463\n",
            "Epoch: 0 batch #: 194  of 300 sample #: 199 reconstruction error: 0.090098\n",
            "Epoch: 0 batch #: 195  of 300 sample #: 199 reconstruction error: 0.055702\n",
            "Epoch: 0 batch #: 196  of 300 sample #: 199 reconstruction error: 0.049144\n",
            "Epoch: 0 batch #: 197  of 300 sample #: 199 reconstruction error: 0.052959\n",
            "Epoch: 0 batch #: 198  of 300 sample #: 199 reconstruction error: 0.100828\n",
            "Epoch: 0 batch #: 199  of 300 sample #: 199 reconstruction error: 0.083950\n",
            "Epoch: 0 batch #: 200  of 300 sample #: 199 reconstruction error: 0.110965\n",
            "Epoch: 0 batch #: 201  of 300 sample #: 199 reconstruction error: 0.101557\n",
            "Epoch: 0 batch #: 202  of 300 sample #: 199 reconstruction error: 0.027953\n",
            "Epoch: 0 batch #: 203  of 300 sample #: 199 reconstruction error: 0.100115\n",
            "Epoch: 0 batch #: 204  of 300 sample #: 199 reconstruction error: 0.051835\n",
            "Epoch: 0 batch #: 205  of 300 sample #: 199 reconstruction error: 0.023416\n",
            "Epoch: 0 batch #: 206  of 300 sample #: 199 reconstruction error: 0.072871\n",
            "Epoch: 0 batch #: 207  of 300 sample #: 199 reconstruction error: 0.079777\n",
            "Epoch: 0 batch #: 208  of 300 sample #: 199 reconstruction error: 0.050443\n",
            "Epoch: 0 batch #: 209  of 300 sample #: 199 reconstruction error: 0.029470\n",
            "Epoch: 0 batch #: 210  of 300 sample #: 199 reconstruction error: 0.091909\n",
            "Epoch: 0 batch #: 211  of 300 sample #: 199 reconstruction error: 0.101948\n",
            "Epoch: 0 batch #: 212  of 300 sample #: 199 reconstruction error: 0.079885\n",
            "Epoch: 0 batch #: 213  of 300 sample #: 199 reconstruction error: 0.107771\n",
            "Epoch: 0 batch #: 214  of 300 sample #: 199 reconstruction error: 0.097972\n",
            "Epoch: 0 batch #: 215  of 300 sample #: 199 reconstruction error: 0.036635\n",
            "Epoch: 0 batch #: 216  of 300 sample #: 199 reconstruction error: 0.087022\n",
            "Epoch: 0 batch #: 217  of 300 sample #: 199 reconstruction error: 0.082802\n",
            "Epoch: 0 batch #: 218  of 300 sample #: 199 reconstruction error: 0.061929\n",
            "Epoch: 0 batch #: 219  of 300 sample #: 199 reconstruction error: 0.067349\n",
            "Epoch: 0 batch #: 220  of 300 sample #: 199 reconstruction error: 0.056514\n",
            "Epoch: 0 batch #: 221  of 300 sample #: 199 reconstruction error: 0.091124\n",
            "Epoch: 0 batch #: 222  of 300 sample #: 199 reconstruction error: 0.094634\n",
            "Epoch: 0 batch #: 223  of 300 sample #: 199 reconstruction error: 0.064705\n",
            "Epoch: 0 batch #: 224  of 300 sample #: 199 reconstruction error: 0.067562\n",
            "Epoch: 0 batch #: 225  of 300 sample #: 199 reconstruction error: 0.072464\n",
            "Epoch: 0 batch #: 226  of 300 sample #: 199 reconstruction error: 0.135410\n",
            "Epoch: 0 batch #: 227  of 300 sample #: 199 reconstruction error: 0.076186\n",
            "Epoch: 0 batch #: 228  of 300 sample #: 199 reconstruction error: 0.075124\n",
            "Epoch: 0 batch #: 229  of 300 sample #: 199 reconstruction error: 0.081702\n",
            "Epoch: 0 batch #: 230  of 300 sample #: 199 reconstruction error: 0.035114\n",
            "Epoch: 0 batch #: 231  of 300 sample #: 199 reconstruction error: 0.027740\n",
            "Epoch: 0 batch #: 232  of 300 sample #: 199 reconstruction error: 0.085425\n",
            "Epoch: 0 batch #: 233  of 300 sample #: 199 reconstruction error: 0.071711\n",
            "Epoch: 0 batch #: 234  of 300 sample #: 199 reconstruction error: 0.051737\n",
            "Epoch: 0 batch #: 235  of 300 sample #: 199 reconstruction error: 0.087502\n",
            "Epoch: 0 batch #: 236  of 300 sample #: 199 reconstruction error: 0.092298\n",
            "Epoch: 0 batch #: 237  of 300 sample #: 199 reconstruction error: 0.081326\n",
            "Epoch: 0 batch #: 238  of 300 sample #: 199 reconstruction error: 0.109258\n",
            "Epoch: 0 batch #: 239  of 300 sample #: 199 reconstruction error: 0.026054\n",
            "Epoch: 0 batch #: 240  of 300 sample #: 199 reconstruction error: 0.093505\n",
            "Epoch: 0 batch #: 241  of 300 sample #: 199 reconstruction error: 0.094155\n",
            "Epoch: 0 batch #: 242  of 300 sample #: 199 reconstruction error: 0.062012\n",
            "Epoch: 0 batch #: 243  of 300 sample #: 199 reconstruction error: 0.065673\n",
            "Epoch: 0 batch #: 244  of 300 sample #: 199 reconstruction error: 0.081063\n",
            "Epoch: 0 batch #: 245  of 300 sample #: 199 reconstruction error: 0.056156\n",
            "Epoch: 0 batch #: 246  of 300 sample #: 199 reconstruction error: 0.105872\n",
            "Epoch: 0 batch #: 247  of 300 sample #: 199 reconstruction error: 0.050242\n",
            "Epoch: 0 batch #: 248  of 300 sample #: 199 reconstruction error: 0.073079\n",
            "Epoch: 0 batch #: 249  of 300 sample #: 199 reconstruction error: 0.050063\n",
            "Epoch: 0 batch #: 250  of 300 sample #: 199 reconstruction error: 0.086461\n",
            "Epoch: 0 batch #: 251  of 300 sample #: 199 reconstruction error: 0.049547\n",
            "Epoch: 0 batch #: 252  of 300 sample #: 199 reconstruction error: 0.059678\n",
            "Epoch: 0 batch #: 253  of 300 sample #: 199 reconstruction error: 0.081650\n",
            "Epoch: 0 batch #: 254  of 300 sample #: 199 reconstruction error: 0.034700\n",
            "Epoch: 0 batch #: 255  of 300 sample #: 199 reconstruction error: 0.054462\n",
            "Epoch: 0 batch #: 256  of 300 sample #: 199 reconstruction error: 0.081937\n",
            "Epoch: 0 batch #: 257  of 300 sample #: 199 reconstruction error: 0.087357\n",
            "Epoch: 0 batch #: 258  of 300 sample #: 199 reconstruction error: 0.084042\n",
            "Epoch: 0 batch #: 259  of 300 sample #: 199 reconstruction error: 0.065324\n",
            "Epoch: 0 batch #: 260  of 300 sample #: 199 reconstruction error: 0.096257\n",
            "Epoch: 0 batch #: 261  of 300 sample #: 199 reconstruction error: 0.039589\n",
            "Epoch: 0 batch #: 262  of 300 sample #: 199 reconstruction error: 0.055104\n",
            "Epoch: 0 batch #: 263  of 300 sample #: 199 reconstruction error: 0.072645\n",
            "Epoch: 0 batch #: 264  of 300 sample #: 199 reconstruction error: 0.074114\n",
            "Epoch: 0 batch #: 265  of 300 sample #: 199 reconstruction error: 0.084524\n",
            "Epoch: 0 batch #: 266  of 300 sample #: 199 reconstruction error: 0.035158\n",
            "Epoch: 0 batch #: 267  of 300 sample #: 199 reconstruction error: 0.061994\n",
            "Epoch: 0 batch #: 268  of 300 sample #: 199 reconstruction error: 0.032143\n",
            "Epoch: 0 batch #: 269  of 300 sample #: 199 reconstruction error: 0.101218\n",
            "Epoch: 0 batch #: 270  of 300 sample #: 199 reconstruction error: 0.079095\n",
            "Epoch: 0 batch #: 271  of 300 sample #: 199 reconstruction error: 0.050155\n",
            "Epoch: 0 batch #: 272  of 300 sample #: 199 reconstruction error: 0.067078\n",
            "Epoch: 0 batch #: 273  of 300 sample #: 199 reconstruction error: 0.051031\n",
            "Epoch: 0 batch #: 274  of 300 sample #: 199 reconstruction error: 0.054196\n",
            "Epoch: 0 batch #: 275  of 300 sample #: 199 reconstruction error: 0.085220\n",
            "Epoch: 0 batch #: 276  of 300 sample #: 199 reconstruction error: 0.056675\n",
            "Epoch: 0 batch #: 277  of 300 sample #: 199 reconstruction error: 0.073534\n",
            "Epoch: 0 batch #: 278  of 300 sample #: 199 reconstruction error: 0.063371\n",
            "Epoch: 0 batch #: 279  of 300 sample #: 199 reconstruction error: 0.049440\n",
            "Epoch: 0 batch #: 280  of 300 sample #: 199 reconstruction error: 0.070796\n",
            "Epoch: 0 batch #: 281  of 300 sample #: 199 reconstruction error: 0.066851\n",
            "Epoch: 0 batch #: 282  of 300 sample #: 199 reconstruction error: 0.096762\n",
            "Epoch: 0 batch #: 283  of 300 sample #: 199 reconstruction error: 0.056425\n",
            "Epoch: 0 batch #: 284  of 300 sample #: 199 reconstruction error: 0.045090\n",
            "Epoch: 0 batch #: 285  of 300 sample #: 199 reconstruction error: 0.070078\n",
            "Epoch: 0 batch #: 286  of 300 sample #: 199 reconstruction error: 0.073725\n",
            "Epoch: 0 batch #: 287  of 300 sample #: 199 reconstruction error: 0.071255\n",
            "Epoch: 0 batch #: 288  of 300 sample #: 199 reconstruction error: 0.021540\n",
            "Epoch: 0 batch #: 289  of 300 sample #: 199 reconstruction error: 0.075503\n",
            "Epoch: 0 batch #: 290  of 300 sample #: 199 reconstruction error: 0.106867\n",
            "Epoch: 0 batch #: 291  of 300 sample #: 199 reconstruction error: 0.120873\n",
            "Epoch: 0 batch #: 292  of 300 sample #: 199 reconstruction error: 0.068912\n",
            "Epoch: 0 batch #: 293  of 300 sample #: 199 reconstruction error: 0.054469\n",
            "Epoch: 0 batch #: 294  of 300 sample #: 199 reconstruction error: 0.087998\n",
            "Epoch: 0 batch #: 295  of 300 sample #: 199 reconstruction error: 0.082475\n",
            "Epoch: 0 batch #: 296  of 300 sample #: 199 reconstruction error: 0.023857\n",
            "Epoch: 0 batch #: 297  of 300 sample #: 199 reconstruction error: 0.102801\n",
            "Epoch: 0 batch #: 298  of 300 sample #: 199 reconstruction error: 0.058555\n",
            "Epoch: 0 batch #: 299  of 300 sample #: 199 reconstruction error: 0.036350\n",
            "Epoch: 0 batch #: 300  of 300 sample #: 199 reconstruction error: 0.091148\n"
          ],
          "name": "stdout"
        }
      ]
    },
    {
      "cell_type": "code",
      "metadata": {
        "colab": {
          "base_uri": "https://localhost:8080/",
          "height": 279
        },
        "id": "4_7Itzj_mEPE",
        "outputId": "f610a532-24fd-4a3b-c144-7add0918bbf9"
      },
      "source": [
        "plt.plot(errors)\n",
        "plt.xlabel(\"Batch Number\")\n",
        "plt.ylabel(\"Error\")\n",
        "plt.show()"
      ],
      "execution_count": null,
      "outputs": [
        {
          "output_type": "display_data",
          "data": {
            "image/png": "[encoded data removed]",
            "text/plain": [
              "<Figure size 432x288 with 1 Axes>"
            ]
          },
          "metadata": {
            "tags": [],
            "needs_background": "light"
          }
        }
      ]
    },
    {
      "cell_type": "code",
      "metadata": {
        "colab": {
          "base_uri": "https://localhost:8080/"
        },
        "id": "txYaUbVOmmTr",
        "outputId": "7770660d-78b1-47a8-d280-30604d07868c"
      },
      "source": [
        "print(W.numpy()) # a weight matrix of shape (50,784)"
      ],
      "execution_count": null,
      "outputs": [
        {
          "output_type": "stream",
          "text": [
            "[[-0.32999995 -0.58999974 -0.3799999  ... -0.25000003 -0.45999983\n",
            "  -0.32999995]\n",
            " [-0.29999998 -0.65999967 -0.29999998 ... -0.19000001 -0.3899999\n",
            "  -0.33999994]\n",
            " [-0.29999998 -0.58999974 -0.36999992 ... -0.23000003 -0.43999985\n",
            "  -0.29999998]\n",
            " ...\n",
            " [-0.27       -0.5099998  -0.33999994 ... -0.17       -0.3999999\n",
            "  -0.35999992]\n",
            " [-0.29       -0.58999974 -0.31999996 ... -0.21000002 -0.3999999\n",
            "  -0.27      ]\n",
            " [-0.26000002 -0.5499998  -0.33999994 ... -0.19000001 -0.3999999\n",
            "  -0.28      ]]\n"
          ],
          "name": "stdout"
        }
      ]
    },
    {
      "cell_type": "markdown",
      "metadata": {
        "id": "seSPASwumoS_"
      },
      "source": [
        "## Learned features"
      ]
    },
    {
      "cell_type": "code",
      "metadata": {
        "colab": {
          "base_uri": "https://localhost:8080/",
          "height": 551
        },
        "id": "lxT9zXqQmpaP",
        "outputId": "3ed22ca8-f58a-4030-9308-7a5b18749118"
      },
      "source": [
        "tile_raster_images(X=W.numpy().T, img_shape=(28, 28), tile_shape=(5, 10), tile_spacing=(1, 1))\n",
        "import matplotlib.pyplot as plt\n",
        "from PIL import Image\n",
        "%matplotlib inline\n",
        "image = Image.fromarray(tile_raster_images(X=W.numpy().T, img_shape=(28, 28) ,tile_shape=(5, 10), tile_spacing=(1, 1)))\n",
        "### Plot image\n",
        "plt.rcParams['figure.figsize'] = (18.0, 18.0)\n",
        "imgplot = plt.imshow(image)\n",
        "imgplot.set_cmap('gray')  "
      ],
      "execution_count": null,
      "outputs": [
        {
          "output_type": "display_data",
          "data": {
            "image/png": "[encoded data removed]",
            "text/plain": [
              "<Figure size 1296x1296 with 1 Axes>"
            ]
          },
          "metadata": {
            "tags": [],
            "needs_background": "light"
          }
        }
      ]
    },
    {
      "cell_type": "code",
      "metadata": {
        "colab": {
          "base_uri": "https://localhost:8080/",
          "height": 265
        },
        "id": "PCKNeS1_ms8Y",
        "outputId": "76b94db0-3f4b-44be-f461-39d941432c38"
      },
      "source": [
        "from PIL import Image\n",
        "image = Image.fromarray(tile_raster_images(X =W.numpy().T[10:11], img_shape=(28, 28),tile_shape=(1, 1), tile_spacing=(1, 1)))\n",
        "### Plot image\n",
        "plt.rcParams['figure.figsize'] = (4.0, 4.0)\n",
        "imgplot = plt.imshow(image)\n",
        "imgplot.set_cmap('gray')  "
      ],
      "execution_count": null,
      "outputs": [
        {
          "output_type": "display_data",
          "data": {
            "image/png": "[encoded data removed]",
            "text/plain": [
              "<Figure size 288x288 with 1 Axes>"
            ]
          },
          "metadata": {
            "tags": [],
            "needs_background": "light"
          }
        }
      ]
    },
    {
      "cell_type": "code",
      "metadata": {
        "colab": {
          "base_uri": "https://localhost:8080/",
          "height": 643
        },
        "id": "C-mJBKNMmwzA",
        "outputId": "57b4733c-2aba-4380-ae4c-9a5d458680c8"
      },
      "source": [
        "!wget -O destructed3.jpg  https://ibm.box.com/shared/static/vvm1b63uvuxq88vbw9znpwu5ol380mco.jpg\n",
        "img = Image.open('destructed3.jpg')\n",
        "img"
      ],
      "execution_count": null,
      "outputs": [
        {
          "output_type": "stream",
          "text": [
            "--2020-12-15 13:33:28--  https://ibm.box.com/shared/static/vvm1b63uvuxq88vbw9znpwu5ol380mco.jpg\n",
            "Resolving ibm.box.com (ibm.box.com)... 107.152.26.197\n",
            "Connecting to ibm.box.com (ibm.box.com)|107.152.26.197|:443... connected.\n",
            "HTTP request sent, awaiting response... 301 Moved Permanently\n",
            "Location: /public/static/vvm1b63uvuxq88vbw9znpwu5ol380mco.jpg [following]\n",
            "--2020-12-15 13:33:28--  https://ibm.box.com/public/static/vvm1b63uvuxq88vbw9znpwu5ol380mco.jpg\n",
            "Reusing existing connection to ibm.box.com:443.\n",
            "HTTP request sent, awaiting response... 301 Moved Permanently\n",
            "Location: https://ibm.ent.box.com/public/static/vvm1b63uvuxq88vbw9znpwu5ol380mco.jpg [following]\n",
            "--2020-12-15 13:33:28--  https://ibm.ent.box.com/public/static/vvm1b63uvuxq88vbw9znpwu5ol380mco.jpg\n",
            "Resolving ibm.ent.box.com (ibm.ent.box.com)... 107.152.26.201\n",
            "Connecting to ibm.ent.box.com (ibm.ent.box.com)|107.152.26.201|:443... connected.\n",
            "HTTP request sent, awaiting response... 302 Found\n",
            "Location: https://public.boxcloud.com/d/1/b1!F5sQXO8QSxV2iuU9ik2cYp1rV5g6uqxTWErB5P3lyEzyFQ5OMqIbC5tWm9_pw6kUz-zJiB_TUXAsyhF17oOCj9yGmp0IaF6zOXR2MPzCuYtimX4xb7g9seRB7M4Kq4C54uT7MNlB87Bb880YtMxHtvWKxzQ-QPmuMLBCE40qdHn3cWmKCkEAInC7byrRgQtJzkfSfijADlsuu0Qh1pp5MFvByvs2i8qxHz0rYzEyfgeICPBzNM4whIMys86-1jXYlNGVxhYN_kIhfMWxZvmrcdrjzPjTmIOPAPYcJ6tAQ0L7EjcHT3hTxFX1Od7XR6GOsZIZ4AfEnJrfXk_e82G2B6t14-3pM4ga6Y3tgC9oKT0rfMPV-lpWTUIaVrE_McmY_NkPsJ5w7bj9J_iTn6UoXujPO8HgQRo0Z2e19gVG-eUi_yqPtIcGY6l87YrYxDDdzmPcwjupUSXu7Dqc3rKSynbjDUFCu6hRVwNbvGQWBYjJpLXLDoFNsee5rxADvXciLv7_Zdv9cNMBC64BAojTko3P9KXoIkj11Xh5e6L2osqrQ62xnJV_JmBuxAhw50rNcBMKPacjo_gN8kNhGYfHNZXhyA2T0JZg-VoqVr67L-XTuVw0HmoyFe18mwuorKTAzUrCS0Ua3ZT4p2Z8fnwylIueTz0KYKEA2EK_FXi_OcjqKypVk-uL8-bNHkaRQ1K-EptiuYeB-WuEj8M1j23c9FVRulL0k2tzkT8N9wT8V2oDqFuJCAGackuaMxqR2H2CJEXN86Ev1BC3_7U-kH5UrXZ3zCZCH2t_5ZrlII4LMKs4k8IJ0BdfEE73UakrQMgwa7AG6Vo4mlV8Fi-H1Mo7jEz1baR41BT6KUU2lWvqLnwBzZ9ZKd03GEuShD_J1YrQw9xVyPNnB3-CA81n_Xz6KSP_KjkdjeMQXwood-ros3RHTZWhJDg8YGfWuzY287NwPFbDiRv4NOY4dZsr0eRNIKxpeDVhQhbc_oLChwTuNmATqZ7m8IAUkx_MN4xRxEVfGvwj1BO_VW-3t3YJhGA-w9s2hRDHPZtbq41tGDA0sFP7qMVqIslnKHvskhPO39XdfHplQNhCM5hcTXRCBLXv9ffvSoC9vkYo46trplQGpd5w0OhX2XvSvTFWWEO1fiShdGz4yvBkqHtW17QUIS39pXwcV4KLSUI6fVC2jo0PRccQ1tSQloSBJVDer0EmirNHJotGFyHJ3YxDdmDh53duY6nm70TuhpceKvqfr5A2kDQxK4H7OpIES5JD2IigQjsQvofhXWgOmTKYhiNZ9b1XAkwHaKbQaDwL7V4jyMImc5VzMoavrw_RiaItbcVjp27mRXmBHw2akheAgDoQ7SJUfHWdMcwsI6HkYNaPnZoVMWdWEm9RW_MgskQhnOiP4X58awB9X0xd_Q2O7_PaC7r72knoW-Fr/download [following]\n",
            "--2020-12-15 13:33:28--  https://public.boxcloud.com/d/1/b1!F5sQXO8QSxV2iuU9ik2cYp1rV5g6uqxTWErB5P3lyEzyFQ5OMqIbC5tWm9_pw6kUz-zJiB_TUXAsyhF17oOCj9yGmp0IaF6zOXR2MPzCuYtimX4xb7g9seRB7M4Kq4C54uT7MNlB87Bb880YtMxHtvWKxzQ-QPmuMLBCE40qdHn3cWmKCkEAInC7byrRgQtJzkfSfijADlsuu0Qh1pp5MFvByvs2i8qxHz0rYzEyfgeICPBzNM4whIMys86-1jXYlNGVxhYN_kIhfMWxZvmrcdrjzPjTmIOPAPYcJ6tAQ0L7EjcHT3hTxFX1Od7XR6GOsZIZ4AfEnJrfXk_e82G2B6t14-3pM4ga6Y3tgC9oKT0rfMPV-lpWTUIaVrE_McmY_NkPsJ5w7bj9J_iTn6UoXujPO8HgQRo0Z2e19gVG-eUi_yqPtIcGY6l87YrYxDDdzmPcwjupUSXu7Dqc3rKSynbjDUFCu6hRVwNbvGQWBYjJpLXLDoFNsee5rxADvXciLv7_Zdv9cNMBC64BAojTko3P9KXoIkj11Xh5e6L2osqrQ62xnJV_JmBuxAhw50rNcBMKPacjo_gN8kNhGYfHNZXhyA2T0JZg-VoqVr67L-XTuVw0HmoyFe18mwuorKTAzUrCS0Ua3ZT4p2Z8fnwylIueTz0KYKEA2EK_FXi_OcjqKypVk-uL8-bNHkaRQ1K-EptiuYeB-WuEj8M1j23c9FVRulL0k2tzkT8N9wT8V2oDqFuJCAGackuaMxqR2H2CJEXN86Ev1BC3_7U-kH5UrXZ3zCZCH2t_5ZrlII4LMKs4k8IJ0BdfEE73UakrQMgwa7AG6Vo4mlV8Fi-H1Mo7jEz1baR41BT6KUU2lWvqLnwBzZ9ZKd03GEuShD_J1YrQw9xVyPNnB3-CA81n_Xz6KSP_KjkdjeMQXwood-ros3RHTZWhJDg8YGfWuzY287NwPFbDiRv4NOY4dZsr0eRNIKxpeDVhQhbc_oLChwTuNmATqZ7m8IAUkx_MN4xRxEVfGvwj1BO_VW-3t3YJhGA-w9s2hRDHPZtbq41tGDA0sFP7qMVqIslnKHvskhPO39XdfHplQNhCM5hcTXRCBLXv9ffvSoC9vkYo46trplQGpd5w0OhX2XvSvTFWWEO1fiShdGz4yvBkqHtW17QUIS39pXwcV4KLSUI6fVC2jo0PRccQ1tSQloSBJVDer0EmirNHJotGFyHJ3YxDdmDh53duY6nm70TuhpceKvqfr5A2kDQxK4H7OpIES5JD2IigQjsQvofhXWgOmTKYhiNZ9b1XAkwHaKbQaDwL7V4jyMImc5VzMoavrw_RiaItbcVjp27mRXmBHw2akheAgDoQ7SJUfHWdMcwsI6HkYNaPnZoVMWdWEm9RW_MgskQhnOiP4X58awB9X0xd_Q2O7_PaC7r72knoW-Fr/download\n",
            "Resolving public.boxcloud.com (public.boxcloud.com)... 107.152.26.200\n",
            "Connecting to public.boxcloud.com (public.boxcloud.com)|107.152.26.200|:443... connected.\n",
            "HTTP request sent, awaiting response... 200 OK\n",
            "Length: 24383 (24K) [image/jpeg]\n",
            "Saving to: ‘destructed3.jpg’\n",
            "\n",
            "destructed3.jpg     100%[===================>]  23.81K  --.-KB/s    in 0.01s   \n",
            "\n",
            "2020-12-15 13:33:29 (1.73 MB/s) - ‘destructed3.jpg’ saved [24383/24383]\n",
            "\n"
          ],
          "name": "stdout"
        },
        {
          "output_type": "execute_result",
          "data": {
            "image/png": "[encoded data removed]",
            "text/plain": [
              "<PIL.JpegImagePlugin.JpegImageFile image mode=RGB size=181x181 at 0x7F4CE76B90B8>"
            ]
          },
          "metadata": {
            "tags": []
          },
          "execution_count": 25
        }
      ]
    },
    {
      "cell_type": "code",
      "metadata": {
        "id": "FwVb4nAwmy4W"
      },
      "source": [
        "# convert the image to a 1d numpy array\n",
        "sample_case = np.array(img.convert('I').resize((28,28))).ravel().reshape((1, -1))/255.0\n",
        "\n",
        "sample_case = tf.cast(sample_case, dtype=tf.float32)"
      ],
      "execution_count": null,
      "outputs": []
    },
    {
      "cell_type": "code",
      "metadata": {
        "colab": {
          "base_uri": "https://localhost:8080/"
        },
        "id": "1cpPtrrsm1GL",
        "outputId": "a0205eee-97ec-423f-eb1e-12b04f29db48"
      },
      "source": [
        "hh0_p = tf.nn.sigmoid(tf.matmul(sample_case, W) + hb)\n",
        "hh0_s = tf.round(hh0_p)\n",
        "\n",
        "print(\"Probability nodes in hidden layer:\" ,hh0_p)\n",
        "print(\"activated nodes in hidden layer:\" ,hh0_s)\n",
        "\n",
        "# reconstruct\n",
        "vv1_p = tf.nn.sigmoid(tf.matmul(hh0_s, tf.transpose(W)) + vb)\n",
        "\n",
        "print(vv1_p)\n",
        "#rec_prob = sess.run(vv1_p, feed_dict={ hh0_s: hh0_s_val, W: prv_w, vb: prv_vb})"
      ],
      "execution_count": null,
      "outputs": [
        {
          "output_type": "stream",
          "text": [
            "Probability nodes in hidden layer: tf.Tensor(\n",
            "[[3.65310626e-08 9.99997854e-01 2.61544119e-05 1.27660877e-08\n",
            "  9.99999166e-01 1.28638862e-15 4.20448923e-05 3.70056077e-05\n",
            "  9.99816298e-01 8.51487875e-01 7.60162830e-01 1.01738483e-14\n",
            "  3.35256128e-11 9.69791055e-01 2.62590174e-06 2.15991469e-16\n",
            "  1.38343990e-01 9.81593251e-01 1.05637312e-03 7.95232427e-06\n",
            "  9.99997199e-01 7.84844160e-04 2.97374129e-02 1.14010508e-08\n",
            "  1.28895044e-04 1.00000000e+00 2.64832600e-09 1.70921695e-08\n",
            "  9.99574721e-01 8.64305794e-02 3.35090998e-16 9.99791026e-01\n",
            "  1.21683093e-04 1.14809483e-01 4.03589315e-11 9.99619365e-01\n",
            "  9.99999762e-01 9.99999702e-01 1.28165534e-10 1.00000000e+00\n",
            "  5.58267421e-18 4.12613153e-04 1.04017526e-01 9.99994695e-01\n",
            "  6.24529151e-10 4.74464105e-05 9.99918818e-01 9.82043505e-01\n",
            "  1.28606546e-14 3.59387543e-17]], shape=(1, 50), dtype=float32)\n",
            "activated nodes in hidden layer: tf.Tensor(\n",
            "[[0. 1. 0. 0. 1. 0. 0. 0. 1. 1. 1. 0. 0. 1. 0. 0. 0. 1. 0. 0. 1. 0. 0. 0.\n",
            "  0. 1. 0. 0. 1. 0. 0. 1. 0. 0. 0. 1. 1. 1. 0. 1. 0. 0. 0. 1. 0. 0. 1. 1.\n",
            "  0. 0.]], shape=(1, 50), dtype=float32)\n",
            "tf.Tensor(\n",
            "[[2.00539827e-04 3.02165747e-04 1.88916922e-04 2.40087509e-04\n",
            "  2.23904848e-04 2.54899263e-04 1.90764666e-04 2.19404697e-04\n",
            "  1.51604414e-04 2.32964754e-04 2.12877989e-04 2.70664692e-04\n",
            "  2.04712152e-04 1.92552805e-04 2.23726034e-04 3.15219164e-04\n",
            "  2.54958868e-04 2.49922276e-04 2.10762024e-04 2.70783901e-04\n",
            "  2.30669975e-04 2.04592943e-04 1.96516514e-04 3.27318907e-04\n",
            "  2.21610069e-04 2.42441893e-04 2.12877989e-04 2.42501497e-04\n",
            "  3.20851803e-04 2.62647867e-04 2.99185514e-04 3.54528427e-04\n",
            "  1.87575817e-04 2.62588263e-04 3.00228596e-04 2.30312347e-04\n",
            "  2.23904848e-04 2.62379646e-04 2.57253647e-04 1.77323818e-04\n",
            "  2.15739012e-04 2.26020813e-04 1.15868788e-04 2.74747610e-04\n",
            "  3.89456749e-04 4.81218100e-04 3.44097614e-04 4.04536724e-04\n",
            "  2.68995762e-04 3.04609537e-04 1.86979771e-04 3.03030014e-04\n",
            "  2.73406506e-04 2.65359879e-04 4.28676605e-04 1.50084496e-04\n",
            "  2.65359879e-04 2.54899263e-04 2.00062990e-04 2.31146812e-04\n",
            "  2.88963318e-04 2.82078981e-04 2.95788050e-04 2.11030245e-04\n",
            "  1.71005726e-04 1.47223473e-04 2.61598252e-05 1.84830442e-05\n",
            "  2.94085512e-05 5.49609067e-05 3.73974617e-05 1.51872635e-04\n",
            "  1.46865845e-04 1.69038773e-04 1.36017799e-04 7.83824289e-05\n",
            "  1.62899494e-04 3.48091125e-04 4.03404236e-04 2.30878592e-04\n",
            "  3.55929136e-04 2.70158052e-04 4.07785177e-04 1.59382820e-04\n",
            "  2.32964754e-04 2.19494104e-04 2.57194042e-04 2.28881836e-04\n",
            "  3.98963690e-04 4.72724438e-04 3.13699245e-04 2.31504440e-04\n",
            "  1.44630671e-04 7.24217607e-05 3.66325330e-05 2.83276822e-05\n",
            "  7.40619507e-05 1.85161829e-04 1.13525987e-03 6.67914748e-03\n",
            "  7.14355707e-03 2.88307667e-03 2.11253762e-03 6.96122646e-04\n",
            "  4.41253185e-04 2.24322081e-04 4.79757786e-04 3.86089087e-04\n",
            "  3.07798386e-04 1.83343887e-04 2.14666128e-04 2.30669975e-04\n",
            "  1.38521194e-04 2.77936459e-04 3.18378210e-04 2.24858522e-04\n",
            "  4.20480967e-04 7.73847103e-04 5.62191010e-04 4.98950481e-04\n",
            "  2.91496515e-04 7.71349223e-05 1.75446272e-04 2.27332115e-04\n",
            "  8.54313374e-04 4.45726514e-03 1.85095072e-02 1.13404542e-01\n",
            "  1.18313938e-01 1.93890333e-01 1.10789269e-01 3.24388146e-02\n",
            "  6.74104691e-03 2.82987952e-03 1.82801485e-03 1.99538469e-03\n",
            "  1.11103058e-03 7.91430473e-04 3.36229801e-04 3.90112400e-04\n",
            "  1.62541866e-04 2.10762024e-04 3.25232744e-04 4.54902649e-04\n",
            "  8.05705786e-04 9.44674015e-04 1.63489580e-03 1.15835667e-03\n",
            "  1.90272927e-03 1.01163983e-03 4.81271744e-03 7.56174326e-03\n",
            "  6.83242083e-02 4.52970624e-01 8.67759228e-01 9.72002268e-01\n",
            "  9.38976884e-01 9.38775301e-01 7.31479287e-01 6.57745361e-01\n",
            "  3.61284316e-01 6.65491521e-02 8.72269273e-03 4.53236699e-03\n",
            "  9.10669565e-04 5.58912754e-04 4.51505184e-04 2.99662352e-04\n",
            "  1.74373388e-04 3.00973654e-04 4.03046608e-04 1.21769309e-03\n",
            "  1.22109056e-03 1.96361542e-03 1.97944045e-03 4.37781215e-03\n",
            "  1.39683485e-03 3.35049629e-03 1.80145800e-02 1.79429531e-01\n",
            "  5.17786384e-01 8.91536355e-01 9.82030630e-01 9.82884347e-01\n",
            "  9.70350564e-01 9.37729120e-01 9.49947238e-01 9.27663803e-01\n",
            "  8.02119136e-01 1.57524168e-01 3.40567231e-02 4.86338139e-03\n",
            "  1.54644251e-03 4.50164080e-04 5.06967306e-04 1.93506479e-04\n",
            "  3.52710485e-04 2.49803066e-04 5.69403172e-04 2.00331211e-03\n",
            "  4.33704257e-03 6.32315874e-03 6.94447756e-03 9.95078683e-03\n",
            "  9.42376256e-03 3.89359295e-02 6.78052902e-02 3.62016290e-01\n",
            "  9.23264265e-01 9.78770256e-01 9.82258618e-01 9.45073128e-01\n",
            "  6.90679491e-01 5.82393825e-01 8.04148853e-01 8.88337255e-01\n",
            "  9.07287121e-01 5.15715599e-01 6.52184784e-02 4.33084369e-03\n",
            "  2.43011117e-03 2.72303820e-04 6.09487295e-04 4.01198864e-04\n",
            "  2.74658203e-04 3.05265188e-04 8.72790813e-04 3.80364060e-03\n",
            "  1.28301084e-02 1.06804967e-02 1.29677951e-02 2.16681659e-02\n",
            "  1.86160505e-02 5.11256158e-02 1.30890250e-01 6.62502229e-01\n",
            "  8.96320581e-01 9.48019743e-01 7.24413157e-01 2.90199608e-01\n",
            "  1.68083608e-01 9.59080160e-02 3.55544448e-01 8.56308460e-01\n",
            "  9.60030615e-01 6.35046363e-01 8.24175775e-02 1.00514889e-02\n",
            "  8.26269388e-04 3.30835581e-04 3.56525183e-04 2.84761190e-04\n",
            "  2.09361315e-04 3.97324562e-04 7.32719898e-04 2.45916843e-03\n",
            "  2.47178674e-02 3.04148793e-02 3.65517437e-02 6.91309869e-02\n",
            "  5.22328615e-02 4.68326509e-02 1.04381740e-01 3.82147133e-01\n",
            "  6.92744732e-01 5.02679884e-01 8.40359032e-02 5.60304224e-02\n",
            "  1.34533644e-02 2.27462351e-02 2.22801387e-01 8.95342588e-01\n",
            "  9.38776612e-01 8.13892365e-01 1.51623785e-01 8.88904929e-03\n",
            "  1.02493167e-03 2.83360481e-04 4.93347645e-04 2.71916389e-04\n",
            "  2.91734934e-04 3.24457884e-04 1.48546696e-03 3.95512581e-03\n",
            "  1.82164907e-02 3.72588336e-02 3.70489061e-02 2.35213041e-02\n",
            "  9.60740447e-03 9.61557031e-03 1.35877132e-02 3.37516665e-02\n",
            "  1.21874779e-01 1.02687359e-01 4.75343466e-02 2.82675624e-02\n",
            "  9.13103223e-02 1.30303115e-01 6.28258824e-01 8.95431042e-01\n",
            "  8.54537845e-01 6.36258185e-01 1.81470037e-01 4.99764085e-03\n",
            "  1.28874183e-03 3.20553780e-04 3.33458185e-04 3.16232443e-04\n",
            "  2.11119652e-04 3.06278467e-04 1.98483467e-03 3.62560153e-03\n",
            "  2.70074904e-02 4.39095199e-02 1.55985355e-02 8.28549266e-03\n",
            "  3.75410914e-03 1.40765309e-03 1.17987394e-03 9.35697556e-03\n",
            "  3.51057053e-02 1.79746121e-01 1.21688217e-01 3.28680813e-01\n",
            "  3.60714316e-01 4.58596885e-01 7.92779565e-01 8.24885726e-01\n",
            "  5.67180753e-01 1.86195135e-01 4.07556891e-02 3.56143713e-03\n",
            "  1.04647875e-03 5.52058220e-04 4.78684902e-04 2.65151262e-04\n",
            "  2.84284353e-04 2.85625458e-04 1.07491016e-03 1.40556693e-03\n",
            "  1.08292699e-02 2.42596269e-02 1.27645135e-02 3.86402011e-03\n",
            "  1.30328536e-03 4.72664833e-04 1.02633238e-03 7.23725557e-03\n",
            "  1.67665362e-01 4.07363415e-01 7.36572266e-01 7.15693653e-01\n",
            "  6.46760702e-01 6.84939623e-01 7.59488523e-01 4.89793420e-01\n",
            "  1.82093680e-01 6.50631785e-02 1.63391232e-02 1.68579817e-03\n",
            "  3.06099653e-04 5.03122807e-04 2.92420387e-04 1.39087439e-04\n",
            "  1.80363655e-04 2.59548426e-04 5.76585531e-04 6.18517399e-04\n",
            "  6.55746460e-03 2.18874812e-02 1.34843588e-02 3.82333994e-03\n",
            "  8.31037760e-04 3.48031521e-04 1.73136592e-03 4.16097343e-02\n",
            "  4.90420997e-01 7.89941430e-01 8.93810034e-01 7.74802208e-01\n",
            "  6.79315925e-01 5.86415946e-01 6.58624828e-01 2.39636511e-01\n",
            "  5.66816926e-02 1.07971430e-02 2.44608521e-03 8.05974007e-04\n",
            "  4.16934490e-04 4.64051962e-04 3.54707241e-04 1.82181597e-04\n",
            "  2.95788050e-04 2.82973051e-04 3.41951847e-04 1.55058503e-03\n",
            "  7.67126679e-03 1.62950754e-02 3.76227498e-03 1.13883615e-03\n",
            "  7.42048025e-04 5.67317009e-04 3.10480595e-03 1.25329912e-01\n",
            "  4.37773228e-01 8.01067591e-01 8.29519272e-01 6.84783995e-01\n",
            "  5.11280537e-01 6.78448796e-01 5.52194118e-01 1.05218351e-01\n",
            "  1.24087930e-02 4.02250886e-03 6.10470772e-04 2.16543674e-04\n",
            "  2.24709511e-04 2.43932009e-04 4.05848026e-04 3.18914652e-04\n",
            "  1.75744295e-04 3.63826752e-04 6.86645508e-04 2.33533978e-03\n",
            "  1.49926841e-02 6.41089678e-03 5.33026457e-03 4.77728248e-03\n",
            "  3.30722332e-03 9.76115465e-04 3.60676646e-03 3.66628766e-02\n",
            "  3.22838068e-01 3.54784369e-01 3.90760809e-01 2.49170363e-01\n",
            "  3.08162570e-01 7.51354873e-01 4.42057312e-01 5.90980947e-02\n",
            "  7.74347782e-03 6.41196966e-04 5.01066446e-04 1.99645758e-04\n",
            "  2.77101994e-04 1.35332346e-04 3.23206186e-04 2.66671181e-04\n",
            "  2.85357237e-04 2.48551369e-04 4.52876091e-04 4.91076708e-03\n",
            "  3.29805911e-02 3.29478979e-02 9.90286469e-03 8.75815749e-03\n",
            "  2.91571021e-03 2.08196044e-03 1.09058619e-02 3.29872966e-02\n",
            "  1.17614031e-01 1.48190707e-01 7.95746446e-02 6.50999546e-02\n",
            "  2.89104521e-01 7.05124378e-01 3.87356281e-01 6.53412938e-02\n",
            "  3.61746550e-03 1.55854225e-03 1.30909681e-03 7.59571791e-04\n",
            "  4.32372093e-04 1.09907189e-04 3.11821699e-04 2.47925520e-04\n",
            "  2.21610069e-04 2.82078981e-04 8.04781914e-04 1.36748552e-02\n",
            "  9.52055454e-02 6.76692426e-02 3.57519090e-02 1.49114132e-02\n",
            "  1.15059018e-02 3.59192491e-03 1.10509098e-02 5.30999899e-02\n",
            "  8.49651694e-02 3.24363708e-02 5.51667809e-02 6.31838739e-02\n",
            "  4.50152755e-01 5.97725391e-01 1.59622848e-01 2.76739895e-02\n",
            "  6.88573718e-03 3.73762846e-03 3.32206488e-03 6.77675009e-04\n",
            "  5.85705042e-04 2.44826078e-04 4.31835651e-04 2.92807817e-04\n",
            "  3.44008207e-04 2.97486782e-04 1.52462721e-03 3.35667431e-02\n",
            "  2.07101107e-01 3.71400386e-01 1.34691775e-01 2.24616826e-02\n",
            "  1.09198093e-02 1.20267868e-02 2.41267979e-02 3.32093835e-02\n",
            "  3.59605551e-02 1.27755702e-02 4.44242358e-02 1.00129932e-01\n",
            "  4.39873636e-01 5.53420901e-01 2.35782266e-01 5.13094962e-02\n",
            "  1.08586848e-02 9.92324948e-03 7.24655390e-03 3.60569358e-03\n",
            "  7.40557909e-04 3.07708979e-04 4.21971083e-04 2.63303518e-04\n",
            "  2.75015831e-04 2.01493502e-04 5.29563427e-03 1.31629676e-01\n",
            "  4.06612128e-01 3.83090794e-01 3.21185857e-01 9.84698534e-02\n",
            "  6.35408759e-02 2.92970836e-02 4.98224199e-02 3.02996635e-02\n",
            "  1.34007037e-02 1.48510933e-02 5.86128831e-02 5.38742423e-01\n",
            "  6.50757313e-01 6.75959051e-01 4.14057195e-01 8.12121630e-02\n",
            "  3.47314477e-02 1.51073933e-02 5.63862920e-03 4.31576371e-03\n",
            "  1.45259500e-03 5.18292189e-04 5.49912453e-04 2.54929066e-04\n",
            "  2.54899263e-04 3.70144844e-04 5.88545203e-03 2.03051984e-01\n",
            "  6.61901355e-01 5.91563284e-01 6.33135438e-01 5.29716969e-01\n",
            "  2.66471028e-01 1.19871110e-01 3.66671085e-02 2.12635100e-02\n",
            "  1.42140388e-02 3.28420699e-02 1.14311039e-01 5.47283947e-01\n",
            "  8.43222201e-01 5.38340151e-01 2.61440277e-01 4.42798734e-02\n",
            "  1.28633976e-02 9.67597961e-03 4.83664870e-03 6.56870008e-03\n",
            "  2.54648924e-03 1.52018666e-03 2.67207623e-04 1.83612108e-04\n",
            "  2.02834606e-04 2.45869160e-04 5.65510988e-03 1.97139531e-01\n",
            "  4.81482863e-01 8.29704881e-01 8.15758526e-01 8.76823425e-01\n",
            "  6.48138404e-01 2.45646209e-01 6.88262284e-02 4.20410931e-02\n",
            "  9.79350507e-02 2.16063350e-01 6.90592885e-01 8.91082048e-01\n",
            "  9.25193429e-01 3.41005623e-01 4.84485626e-02 9.06562805e-03\n",
            "  6.05934858e-03 4.42740321e-03 4.65691090e-03 4.83056903e-03\n",
            "  1.81266665e-03 9.87827778e-04 2.28494406e-04 2.68995762e-04\n",
            "  2.76386738e-04 3.45468521e-04 2.06461549e-03 3.82508934e-02\n",
            "  3.45009476e-01 5.98737359e-01 7.84769177e-01 9.13159013e-01\n",
            "  8.65218639e-01 7.58327425e-01 4.02627200e-01 3.96916598e-01\n",
            "  3.87796104e-01 6.47852600e-01 8.79207492e-01 8.81353259e-01\n",
            "  4.98584211e-01 2.90152133e-02 4.76562977e-03 4.43384051e-03\n",
            "  5.62602282e-03 6.44019246e-03 4.82505560e-03 1.99231505e-03\n",
            "  1.52599812e-03 5.44309616e-04 2.42233276e-04 1.65134668e-04\n",
            "  1.98513269e-04 2.26080418e-04 5.18023968e-04 1.28399432e-02\n",
            "  1.20855659e-01 2.95035839e-01 5.17671585e-01 8.85965288e-01\n",
            "  8.81334484e-01 8.33392620e-01 8.95781875e-01 7.69735694e-01\n",
            "  7.40747452e-01 6.99626863e-01 4.46566224e-01 2.90370256e-01\n",
            "  5.32092452e-02 3.46204638e-03 1.60479546e-03 2.54279375e-03\n",
            "  3.82092595e-03 2.57229805e-03 2.71582603e-03 1.67283416e-03\n",
            "  6.11811876e-04 3.69369984e-04 2.51650810e-04 2.23904848e-04\n",
            "  2.40087509e-04 2.35289335e-04 2.85118818e-04 1.16243958e-03\n",
            "  1.88881457e-02 1.66512817e-01 1.67982221e-01 2.89230585e-01\n",
            "  5.74592948e-01 7.31351852e-01 5.54826975e-01 3.75572532e-01\n",
            "  1.68374091e-01 1.86164737e-01 5.20077944e-02 1.50268972e-02\n",
            "  9.26461816e-03 2.27743387e-03 7.80284405e-04 6.39855862e-04\n",
            "  9.39607620e-04 9.28074121e-04 7.43240118e-04 5.56588173e-04\n",
            "  3.28660011e-04 2.33381987e-04 1.79171562e-04 1.62541866e-04\n",
            "  2.81691551e-04 1.85132027e-04 3.01241875e-04 2.33650208e-04\n",
            "  7.38710165e-04 2.55650282e-03 8.04063678e-03 1.88903511e-02\n",
            "  2.01997757e-02 2.28774548e-02 1.28638744e-02 4.38168645e-03\n",
            "  6.86341524e-03 6.01696968e-03 4.59194183e-03 4.89646196e-03\n",
            "  5.06201386e-03 6.85393810e-04 4.18394804e-04 2.30699778e-04\n",
            "  1.85430050e-04 3.26782465e-04 3.96639109e-04 2.63303518e-04\n",
            "  2.14129686e-04 2.86638737e-04 1.99109316e-04 2.68042088e-04\n",
            "  2.28404999e-04 3.58134508e-04 2.54899263e-04 2.93076038e-04\n",
            "  2.82734632e-04 9.27358866e-04 1.67849660e-03 7.63982534e-04\n",
            "  4.03225422e-04 3.30507755e-04 5.38170338e-04 5.70595264e-04\n",
            "  3.92287970e-04 8.10384750e-04 6.61253929e-04 1.20121241e-03\n",
            "  1.66237354e-03 4.26083803e-04 3.88771296e-04 2.35736370e-04\n",
            "  2.01910734e-04 2.33590603e-04 2.28255987e-04 3.02642584e-04\n",
            "  2.75045633e-04 2.10523605e-04 2.04592943e-04 2.47418880e-04\n",
            "  2.47418880e-04 2.68042088e-04 2.00539827e-04 3.40729952e-04\n",
            "  2.47269869e-04 3.06665897e-04 3.17126513e-04 4.44352627e-04\n",
            "  7.31498003e-04 7.66336918e-04 1.74850225e-03 1.41417980e-03\n",
            "  9.73135233e-04 1.23605132e-03 1.07717514e-03 8.79108906e-04\n",
            "  7.49289989e-04 5.27650118e-04 5.17666340e-04 2.17795372e-04\n",
            "  3.53395939e-04 3.20881605e-04 3.28361988e-04 2.55167484e-04\n",
            "  1.70886517e-04 4.55230474e-04 1.57773495e-04 2.76178122e-04]], shape=(1, 784), dtype=float32)\n"
          ],
          "name": "stdout"
        }
      ]
    },
    {
      "cell_type": "code",
      "metadata": {
        "colab": {
          "base_uri": "https://localhost:8080/",
          "height": 265
        },
        "id": "2J2xK-XDm143",
        "outputId": "cd22dddf-42ea-49bd-d100-c0f38e3aa183"
      },
      "source": [
        "img = Image.fromarray(tile_raster_images(X=vv1_p.numpy(), img_shape=(28, 28),tile_shape=(1, 1), tile_spacing=(1, 1)))\n",
        "plt.rcParams['figure.figsize'] = (4.0, 4.0)\n",
        "imgplot = plt.imshow(img)\n",
        "imgplot.set_cmap('gray') "
      ],
      "execution_count": null,
      "outputs": [
        {
          "output_type": "display_data",
          "data": {
            "image/png": "[encoded data removed]",
            "text/plain": [
              "<Figure size 288x288 with 1 Axes>"
            ]
          },
          "metadata": {
            "tags": [],
            "needs_background": "light"
          }
        }
      ]
    }
  ]
}