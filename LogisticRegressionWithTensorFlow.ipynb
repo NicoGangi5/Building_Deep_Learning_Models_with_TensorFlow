{
  "nbformat": 4,
  "nbformat_minor": 0,
  "metadata": {
    "colab": {
      "name": "LogisticRegressionWithTensorFlow.ipynb",
      "provenance": [],
      "collapsed_sections": [],
      "authorship_tag": "ABX9TyMpEaYBCgGwfNxaYa5OSHOl",
      "include_colab_link": true
    },
    "kernelspec": {
      "name": "python3",
      "display_name": "Python 3"
    }
  },
  "cells": [
    {
      "cell_type": "markdown",
      "metadata": {
        "id": "view-in-github",
        "colab_type": "text"
      },
      "source": [
        "<a href=\"https://colab.research.google.com/github/NicoGangi5/Building_Deep_Learning_Models_with_TensorFlow/blob/main/LogisticRegressionWithTensorFlow.ipynb\" target=\"_parent\"><img src=\"https://colab.research.google.com/assets/colab-badge.svg\" alt=\"Open In Colab\"/></a>"
      ]
    },
    {
      "cell_type": "markdown",
      "metadata": {
        "id": "eQR22gCOp5Xy"
      },
      "source": [
        "# Utilizing Logistic Regression in TensorFlow"
      ]
    },
    {
      "cell_type": "code",
      "metadata": {
        "id": "ZAYE_8GqpG5E"
      },
      "source": [
        "import tensorflow as tf\n",
        "import pandas as pd\n",
        "import numpy as np\n",
        "import time\n",
        "from sklearn.datasets import load_iris\n",
        "from sklearn.model_selection import train_test_split\n",
        "import matplotlib.pyplot as plt"
      ],
      "execution_count": null,
      "outputs": []
    },
    {
      "cell_type": "markdown",
      "metadata": {
        "id": "RWdPTYpFp9qH"
      },
      "source": [
        "# Understanding the Data"
      ]
    },
    {
      "cell_type": "code",
      "metadata": {
        "id": "T91bHxGkp7hE"
      },
      "source": [
        "iris = load_iris()\n",
        "iris_X, iris_y = iris.data[:-1,:], iris.target[:-1]\n",
        "iris_y= pd.get_dummies(iris_y).values\n",
        "trainX, testX, trainY, testY = train_test_split(iris_X, iris_y, test_size=0.33, random_state=42)"
      ],
      "execution_count": null,
      "outputs": []
    },
    {
      "cell_type": "code",
      "metadata": {
        "colab": {
          "base_uri": "https://localhost:8080/"
        },
        "id": "jJvWr7PTqKzz",
        "outputId": "96492883-1e38-44b7-d837-f8d44fca3d08"
      },
      "source": [
        "# numFeatures is the number of features in our input data.\n",
        "# In the iris dataset, this number is '4'.\n",
        "numFeatures = trainX.shape[1]\n",
        "print('numFeatures is : ', numFeatures )\n",
        "# numLabels is the number of classes our data points can be in.\n",
        "# In the iris dataset, this number is '3'.\n",
        "numLabels = trainY.shape[1]\n",
        "print('numLabels is : ', numLabels )\n",
        "\n",
        "#X = tf.Variable( np.identity(numFeatures), tf.TensorShape(numFeatures),dtype='float32') # Iris has 4 features, so X is a tensor to hold our data.\n",
        "#yGold = tf.Variable(np.array([1,1,1]),shape=tf.TensorShape(numLabels),dtype='float32') # This will be our correct answers matrix for 3 classes."
      ],
      "execution_count": null,
      "outputs": [
        {
          "output_type": "stream",
          "text": [
            "numFeatures is :  4\n",
            "numLabels is :  3\n"
          ],
          "name": "stdout"
        }
      ]
    },
    {
      "cell_type": "code",
      "metadata": {
        "id": "CvxS1qZ8qTcy"
      },
      "source": [
        "trainX = tf.constant(trainX, dtype='float32')\n",
        "trainY = tf.constant(trainY, dtype='float32')\n",
        "testX = tf.constant(testX, dtype='float32')\n",
        "testY = tf.constant(testY, dtype='float32')"
      ],
      "execution_count": null,
      "outputs": []
    },
    {
      "cell_type": "markdown",
      "metadata": {
        "id": "EmSzX9TpqstL"
      },
      "source": [
        "# Set model weights and bias"
      ]
    },
    {
      "cell_type": "code",
      "metadata": {
        "id": "61grnlC1qoR5"
      },
      "source": [
        "W = tf.Variable(tf.zeros([4, 3]))  # 4-dimensional input and  3 classes\n",
        "b = tf.Variable(tf.zeros([3])) # 3-dimensional output [0,0,1],[0,1,0],[1,0,0]"
      ],
      "execution_count": null,
      "outputs": []
    },
    {
      "cell_type": "code",
      "metadata": {
        "id": "ZNnrKQ9erWeN"
      },
      "source": [
        "#Randomly sample from a normal distribution with standard deviation .01\n",
        "\n",
        "weights = tf.Variable(tf.random.normal([numFeatures,numLabels],\n",
        "                                       mean=0.,\n",
        "                                       stddev=0.01,\n",
        "                                       name=\"weights\"),dtype='float32')\n",
        "\n",
        "\n",
        "bias = tf.Variable(tf.random.normal([1,numLabels],\n",
        "                                    mean=0.,\n",
        "                                    stddev=0.01,\n",
        "                                    name=\"bias\"))"
      ],
      "execution_count": null,
      "outputs": []
    },
    {
      "cell_type": "markdown",
      "metadata": {
        "id": "StuKbwKXrbvy"
      },
      "source": [
        "## Logistic Regression model"
      ]
    },
    {
      "cell_type": "code",
      "metadata": {
        "id": "r-XtKWporcKh"
      },
      "source": [
        "# Three-component breakdown of the Logistic Regression equation.\n",
        "# Note that these feed into each other.\n",
        "def logistic_regression(x):\n",
        "    apply_weights_OP = tf.matmul(x, weights, name=\"apply_weights\")\n",
        "    add_bias_OP = tf.add(apply_weights_OP, bias, name=\"add_bias\") \n",
        "    activation_OP = tf.nn.sigmoid(add_bias_OP, name=\"activation\")\n",
        "    return activation_OP"
      ],
      "execution_count": null,
      "outputs": []
    },
    {
      "cell_type": "markdown",
      "metadata": {
        "id": "fkkn9z4IsKKv"
      },
      "source": [
        "# Training"
      ]
    },
    {
      "cell_type": "markdown",
      "metadata": {
        "id": "lI-dcAbWsLti"
      },
      "source": [
        "*Cost Function*"
      ]
    },
    {
      "cell_type": "code",
      "metadata": {
        "id": "VmqYp3V3rr8K"
      },
      "source": [
        "# Defining our learning rate iterations (decay)\n",
        "learningRate = tf.keras.optimizers.schedules.ExponentialDecay(initial_learning_rate=0.0008,\n",
        "                                          decay_steps=trainX.shape[0],\n",
        "                                          decay_rate= 0.95,\n",
        "                                          staircase=True)"
      ],
      "execution_count": null,
      "outputs": []
    },
    {
      "cell_type": "code",
      "metadata": {
        "id": "yQ-fF566sp7W"
      },
      "source": [
        "#Defining our cost function - Squared Mean Error\n",
        "loss_object = tf.keras.losses.MeanSquaredLogarithmicError()\n",
        "optimizer = tf.keras.optimizers.SGD(learningRate)"
      ],
      "execution_count": null,
      "outputs": []
    },
    {
      "cell_type": "code",
      "metadata": {
        "id": "tEnR63e4sqIO"
      },
      "source": [
        "# Accuracy metric.\n",
        "def accuracy(y_pred, y_true):\n",
        "# Predicted class is the index of the highest score in prediction vector (i.e. argmax).\n",
        "\n",
        "    correct_prediction = tf.equal(tf.argmax(y_pred, 1), tf.argmax(y_true, 1))\n",
        "\n",
        "    return tf.reduce_mean(tf.cast(correct_prediction, tf.float32))"
      ],
      "execution_count": null,
      "outputs": []
    },
    {
      "cell_type": "code",
      "metadata": {
        "id": "zZ1XTXqBs1_3"
      },
      "source": [
        "# Optimization process. \n",
        "\n",
        "def run_optimization(x, y):\n",
        "    with tf.GradientTape() as g:\n",
        "        pred = logistic_regression(x)\n",
        "        loss = loss_object(pred, y)\n",
        "    gradients = g.gradient(loss, [weights, bias])\n",
        "    optimizer.apply_gradients(zip(gradients, [weights, bias]))"
      ],
      "execution_count": null,
      "outputs": []
    },
    {
      "cell_type": "code",
      "metadata": {
        "colab": {
          "base_uri": "https://localhost:8080/"
        },
        "id": "BihoWzDss30U",
        "outputId": "0f9bc75a-7ac1-40a5-ee80-a78847946376"
      },
      "source": [
        "# Number of Epochs in our training\n",
        "numEpochs = 700\n",
        "\n",
        "# Initialize reporting variables\n",
        "display_step = 10\n",
        "epoch_values = []\n",
        "accuracy_values = []\n",
        "loss_values = []\n",
        "loss = 0\n",
        "diff = 1\n",
        "# Training epochs\n",
        "for i in range(numEpochs):\n",
        "    if i > 1 and diff < .0001:\n",
        "        print(\"change in loss %g; convergence.\"%diff)\n",
        "        break\n",
        "    else:\n",
        "        # Run training step\n",
        "        run_optimization(trainX, trainY)\n",
        "        \n",
        "        # Report occasional stats\n",
        "        if i % display_step == 0:\n",
        "            # Add epoch to epoch_values\n",
        "            epoch_values.append(i)\n",
        "            \n",
        "            pred = logistic_regression(testX)\n",
        "\n",
        "            newLoss = loss_object(pred, testY)\n",
        "            # Add loss to live graphing variable\n",
        "            loss_values.append(newLoss)\n",
        "            \n",
        "            # Generate accuracy stats on test data\n",
        "            acc = accuracy(pred, testY)\n",
        "            accuracy_values.append(acc)\n",
        "            \n",
        "    \n",
        "            # Re-assign values for variables\n",
        "            diff = abs(newLoss - loss)\n",
        "            loss = newLoss\n",
        "\n",
        "            #generate print statements\n",
        "            print(\"step %d, training accuracy %g, loss %g, change in loss %g\"%(i, acc, newLoss, diff))\n",
        "\n",
        "        \n",
        "\n",
        "          \n",
        "\n",
        "# How well do we perform on held-out test data?\n",
        "print(\"final accuracy on test set: %s\" %acc.numpy())"
      ],
      "execution_count": null,
      "outputs": [
        {
          "output_type": "stream",
          "text": [
            "step 0, training accuracy 0.28, loss 0.138514, change in loss 0.138514\n",
            "step 10, training accuracy 0.28, loss 0.137892, change in loss 0.000621557\n",
            "step 20, training accuracy 0.26, loss 0.137279, change in loss 0.000613108\n",
            "step 30, training accuracy 0.26, loss 0.136675, change in loss 0.000604615\n",
            "step 40, training accuracy 0.26, loss 0.136079, change in loss 0.000596121\n",
            "step 50, training accuracy 0.2, loss 0.135491, change in loss 0.000587612\n",
            "step 60, training accuracy 0.18, loss 0.134912, change in loss 0.000579089\n",
            "step 70, training accuracy 0.22, loss 0.134341, change in loss 0.00057058\n",
            "step 80, training accuracy 0.2, loss 0.133779, change in loss 0.000562087\n",
            "step 90, training accuracy 0.24, loss 0.133226, change in loss 0.000553578\n",
            "step 100, training accuracy 0.3, loss 0.132686, change in loss 0.000539705\n",
            "step 110, training accuracy 0.28, loss 0.132176, change in loss 0.000510126\n",
            "step 120, training accuracy 0.32, loss 0.131673, change in loss 0.000502542\n",
            "step 130, training accuracy 0.32, loss 0.131178, change in loss 0.000494987\n",
            "step 140, training accuracy 0.32, loss 0.130691, change in loss 0.000487462\n",
            "step 150, training accuracy 0.32, loss 0.130211, change in loss 0.000479996\n",
            "step 160, training accuracy 0.32, loss 0.129738, change in loss 0.000472575\n",
            "step 170, training accuracy 0.32, loss 0.129273, change in loss 0.000465214\n",
            "step 180, training accuracy 0.32, loss 0.128815, change in loss 0.000457853\n",
            "step 190, training accuracy 0.32, loss 0.128365, change in loss 0.000450611\n",
            "step 200, training accuracy 0.32, loss 0.127928, change in loss 0.000436798\n",
            "step 210, training accuracy 0.32, loss 0.127513, change in loss 0.000414699\n",
            "step 220, training accuracy 0.32, loss 0.127105, change in loss 0.000408322\n",
            "step 230, training accuracy 0.32, loss 0.126703, change in loss 0.000401974\n",
            "step 240, training accuracy 0.32, loss 0.126307, change in loss 0.00039573\n",
            "step 250, training accuracy 0.32, loss 0.125918, change in loss 0.000389487\n",
            "step 260, training accuracy 0.32, loss 0.125534, change in loss 0.000383347\n",
            "step 270, training accuracy 0.32, loss 0.125157, change in loss 0.000377268\n",
            "step 280, training accuracy 0.32, loss 0.124786, change in loss 0.000371262\n",
            "step 290, training accuracy 0.32, loss 0.12442, change in loss 0.000365309\n",
            "step 300, training accuracy 0.32, loss 0.124068, change in loss 0.000352301\n",
            "step 310, training accuracy 0.32, loss 0.123732, change in loss 0.000336185\n",
            "step 320, training accuracy 0.32, loss 0.123401, change in loss 0.000331022\n",
            "step 330, training accuracy 0.32, loss 0.123075, change in loss 0.000325881\n",
            "step 340, training accuracy 0.32, loss 0.122754, change in loss 0.000320844\n",
            "step 350, training accuracy 0.32, loss 0.122438, change in loss 0.000315838\n",
            "step 360, training accuracy 0.32, loss 0.122127, change in loss 0.000310928\n",
            "step 370, training accuracy 0.32, loss 0.121821, change in loss 0.00030607\n",
            "step 380, training accuracy 0.32, loss 0.12152, change in loss 0.000301257\n",
            "step 390, training accuracy 0.32, loss 0.121224, change in loss 0.000296526\n",
            "step 400, training accuracy 0.32, loss 0.120939, change in loss 0.000284635\n",
            "step 410, training accuracy 0.32, loss 0.120666, change in loss 0.000273086\n",
            "step 420, training accuracy 0.32, loss 0.120397, change in loss 0.000269026\n",
            "step 430, training accuracy 0.32, loss 0.120132, change in loss 0.00026495\n",
            "step 440, training accuracy 0.32, loss 0.119871, change in loss 0.000260979\n",
            "step 450, training accuracy 0.32, loss 0.119614, change in loss 0.000257045\n",
            "step 460, training accuracy 0.32, loss 0.119361, change in loss 0.000253148\n",
            "step 470, training accuracy 0.32, loss 0.119111, change in loss 0.000249341\n",
            "step 480, training accuracy 0.32, loss 0.118866, change in loss 0.000245571\n",
            "step 490, training accuracy 0.32, loss 0.118624, change in loss 0.000241861\n",
            "step 500, training accuracy 0.32, loss 0.118393, change in loss 0.000231102\n",
            "step 510, training accuracy 0.32, loss 0.11817, change in loss 0.000223041\n",
            "step 520, training accuracy 0.32, loss 0.11795, change in loss 0.000219837\n",
            "step 530, training accuracy 0.32, loss 0.117733, change in loss 0.000216685\n",
            "step 540, training accuracy 0.32, loss 0.11752, change in loss 0.000213563\n",
            "step 550, training accuracy 0.32, loss 0.117309, change in loss 0.000210486\n",
            "step 560, training accuracy 0.32, loss 0.117102, change in loss 0.000207476\n",
            "step 570, training accuracy 0.32, loss 0.116897, change in loss 0.000204489\n",
            "step 580, training accuracy 0.32, loss 0.116696, change in loss 0.000201553\n",
            "step 590, training accuracy 0.32, loss 0.116497, change in loss 0.000198655\n",
            "step 600, training accuracy 0.32, loss 0.116308, change in loss 0.000188984\n",
            "step 610, training accuracy 0.32, loss 0.116125, change in loss 0.000183508\n",
            "step 620, training accuracy 0.32, loss 0.115944, change in loss 0.000181012\n",
            "step 630, training accuracy 0.32, loss 0.115765, change in loss 0.000178553\n",
            "step 640, training accuracy 0.32, loss 0.115589, change in loss 0.000176109\n",
            "step 650, training accuracy 0.32, loss 0.115415, change in loss 0.000173748\n",
            "step 660, training accuracy 0.32, loss 0.115244, change in loss 0.000171371\n",
            "step 670, training accuracy 0.32, loss 0.115075, change in loss 0.000169061\n",
            "step 680, training accuracy 0.32, loss 0.114908, change in loss 0.000166766\n",
            "step 690, training accuracy 0.32, loss 0.114743, change in loss 0.000164531\n",
            "final accuracy on test set: 0.32\n"
          ],
          "name": "stdout"
        }
      ]
    },
    {
      "cell_type": "code",
      "metadata": {
        "colab": {
          "base_uri": "https://localhost:8080/",
          "height": 333
        },
        "id": "ldGYM23GuOxb",
        "outputId": "120bb3da-259b-485c-fda0-32beba374954"
      },
      "source": [
        "%matplotlib inline\n",
        "import numpy as np\n",
        "import matplotlib.pyplot as plt\n",
        "plt.plot([np.mean(loss_values[i-50:i]) for i in range(len(loss_values))])\n",
        "plt.show()"
      ],
      "execution_count": null,
      "outputs": [
        {
          "output_type": "stream",
          "text": [
            "/usr/local/lib/python3.6/dist-packages/numpy/core/fromnumeric.py:3335: RuntimeWarning: Mean of empty slice.\n",
            "  out=out, **kwargs)\n",
            "/usr/local/lib/python3.6/dist-packages/numpy/core/_methods.py:161: RuntimeWarning: invalid value encountered in double_scalars\n",
            "  ret = ret.dtype.type(ret / rcount)\n"
          ],
          "name": "stderr"
        },
        {
          "output_type": "display_data",
          "data": {
            "image/png": "[encoded data removed]",
            "text/plain": [
              "<Figure size 432x288 with 1 Axes>"
            ]
          },
          "metadata": {
            "tags": [],
            "needs_background": "light"
          }
        }
      ]
    }
  ]
}